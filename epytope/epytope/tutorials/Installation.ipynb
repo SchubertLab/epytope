{
 "cells": [
  {
   "cell_type": "markdown",
   "metadata": {
    "collapsed": true
   },
   "source": [
    "<h1> Installation of epytope </h1>\n",
    "\n",
    "\n",
    "epytope can simply be installed via `pip` with:\n"
   ]
  },
  {
   "cell_type": "code",
   "execution_count": null,
   "metadata": {
    "collapsed": true
   },
   "outputs": [],
   "source": [
    "pip install git+https://github.com/KohlbacherLab/epytope"
   ]
  },
  {
   "cell_type": "code",
   "execution_count": null,
   "metadata": {},
   "outputs": [],
   "source": [
    "pip install epytope"
   ]
  },
  {
   "cell_type": "markdown",
   "metadata": {},
   "source": [
    "<h1> Installation of External Tools </h1>\n",
    "\n",
    "For a fully functioning epytope installation, several external tools have to be installed. These tools can not be shipped with epytope due to licensing issues or due to complex installation procedures. \n",
    "\n",
    "The following tools are not provided by epytope and have to be downloaded and installed:\n",
    "\n",
    "<h3> Epitope Prediction </h3>\n",
    "<table>\n",
    "<tr>\n",
    "<th>Method</th><th>Link</th>\n",
    "</tr>\n",
    "<tr>\n",
    "<td>NetMHC</td><td> http://www.cbs.dtu.dk/services/NetMHC/</td>\n",
    "</tr>\n",
    "<tr>\n",
    "<td>NetMHCpan</td><td> http://www.cbs.dtu.dk/services/NetMHCpan/</td>\n",
    "</tr>\n",
    "<tr>\n",
    "<td>NetMHCII</td><td>http://www.cbs.dtu.dk/services/NetMHCII/</td>\n",
    "</tr>\n",
    "<tr>\n",
    "<td>NetMHCIIpan</td><td>http://www.cbs.dtu.dk/services/NetMHCIIpan/</td>\n",
    "</tr>\n",
    "<tr>\n",
    "<td>NetCTLpan</td><td>http://www.cbs.dtu.dk/services/NetCTLpan/</td>\n",
    "</tr>\n",
    "<tr>\n",
    "<td>PickPocket</td><td>http://www.cbs.dtu.dk/services/PickPocket/</td>\n",
    "<tr>\n",
    "</table>\n",
    "<h3> Cleavage Prediction </h3>\n",
    "<table>\n",
    "<tr>\n",
    "<th>Method</th><th>Link</th>\n",
    "</tr>\n",
    "<tr>\n",
    "<td>NetChop</td><td>http://www.cbs.dtu.dk/services/NetChop/</td>\n",
    "</tr>\n",
    "</table>\n",
    "\n",
    "<h3> HLA Typing </h3>\n",
    "<table>\n",
    "<tr>\n",
    "<th>Method</th><th>Link</th>\n",
    "</tr>\n",
    "<tr>\n",
    "<td>OptiType</td><td>https://github.com/FRED-2/OptiType/</td>\n",
    "</tr>\n",
    "<tr>\n",
    "<td>Polysolver</td><td>https://www.broadinstitute.org/cancer/cga/polysolver/</td>\n",
    "</tr>\n",
    "<tr>\n",
    "<td>seq2HLA</td><td>https://bitbucket.org/sebastian_boegel/seq2hla/</td>\n",
    "</tr>\n",
    "<tr>\n",
    "<td>ATHLATES</td><td>https://www.broadinstitute.org/scientific-community/science/projects/viral-genomics/athlates/</td>\n",
    "</tr>\n",
    "</table>\n",
    "\n",
    "<h1> Installation of ILP Solver </h1>\n",
    "\n",
    "It is necessary to install a ILP solver such as CBC, CPLEX, Gurobi, or GLPK when using the epitope selection and assembly approaches of epytope. We recommend CBC, an open-source solver supported by the COIN-OR community (https://projects.coin-or.org/Cbc/). \n",
    "\n",
    "Although modern ILP solver are quit fast, some models and especially the ones used for epitope assembly are still very time consuming even for small input sizes. Therefore, epytope offers also methods to approximate a solution. For doing so, epytope resorts to the Lin-Kernighan Helsgaun TSP heuristic, which has to be installed separately and can be found here http://www.akira.ruc.dk/~keld/research/LKH/.\n"
   ]
  }
 ],
 "metadata": {
  "kernelspec": {
   "display_name": "Python 3",
   "language": "python",
   "name": "python3"
  },
  "language_info": {
   "codemirror_mode": {
    "name": "ipython",
    "version": 3
   },
   "file_extension": ".py",
   "mimetype": "text/x-python",
   "name": "python",
   "nbconvert_exporter": "python",
   "pygments_lexer": "ipython3",
   "version": "3.7.0"
  }
 },
 "nbformat": 4,
 "nbformat_minor": 1
}
