{
 "cells": [
  {
   "cell_type": "markdown",
   "metadata": {},
   "source": [
    "<h1> Epitope Prediction </h1>\n",
    "\n",
    "This tutorial illustrates the use of epytope to predict T cell receptor (TCR) binding to epitopes and how to analyze results. epytope offers a long list of epitope prediction methods and was designed in such a way that extending epytope with your favorite method is easy.\n",
    "\n",
    "This tutorial will entail:\n",
    "- Simple TCR-epitope prediction from a repertoire of TCRs and selected epitopes\n",
    "- Manipulation of the results\n",
    "- Consensus prediction with multiple prediction methods\n",
    "- Integration of a new prediction method\n"
   ]
  },
  {
   "cell_type": "markdown",
   "metadata": {
    "collapsed": true
   },
   "source": [
    "<h2> Chapter 1: The basics </h2>\n",
    "<br/>\n",
    "We first start with importing the needed packages."
   ]
  },
  {
   "cell_type": "code",
   "execution_count": 1,
   "metadata": {},
   "outputs": [],
   "source": [
    "import sys\n",
    "sys.path.append('../..')"
   ]
  },
  {
   "cell_type": "code",
   "execution_count": 3,
   "metadata": {},
   "outputs": [],
   "source": [
    "%matplotlib inline\n",
    "%reload_ext autoreload\n",
    "%autoreload 2\n",
    "\n",
    "from epytope.Core import Peptide, Allele, TCREpitope, ImmuneReceptorChain, ImmuneReceptor\n",
    "\n",
    "from epytope.IO import IRDatasetAdapterFactory\n",
    "from epytope.TCRSpecificityPrediction import TCRSpecificityPredictorFactory"
   ]
  },
  {
   "cell_type": "markdown",
   "metadata": {},
   "source": [
    "Lets start of with something simple: Defining TCR-epitopes (consisting of peptides and optionally HLA alleles) and TCRs. You find all basic classes under `epytope.Core`. For more information on HLA alleles and peptides see the tutorial `EpitopePrediction.ipynb`."
   ]
  },
  {
   "cell_type": "code",
   "execution_count": 4,
   "metadata": {},
   "outputs": [
    {
     "data": {
      "text/plain": [
       "TCR EPITOPE:\n",
       " PEPTIDE SYFPEITHI\n",
       " bound by ALLELE: HLA-A*02:01"
      ]
     },
     "execution_count": 4,
     "metadata": {},
     "output_type": "execute_result"
    }
   ],
   "source": [
    "peptide = Peptide(\"SYFPEITHI\")\n",
    "allele = Allele(\"HLA-A*02:01\")\n",
    "epitope = TCREpitope(peptide=peptide, alleles=allele)\n",
    "epitope"
   ]
  },
  {
   "cell_type": "markdown",
   "metadata": {},
   "source": [
    "Next we will start to define a TCR from the superclass Immune receptor, which also can store B cell receptors (BCRs). Each TCR consists of at least 1 Immune Receptor Chain, that is typicall an α- or β-chain for TCR-Epitope prediction, as γ-δ TCRs are typically not considered by the predictors. Additionally, you can provide the celltype (e.g. \"CD4 T cell\"), and its host organism.\n",
    "\n",
    "Each IR-Chain can contain the following information: chain type (out of [\"TRA\", \"TRB\", \"TRG\", \"TRD\", \"IGK\", \"IGH\", \"IGL\"]), V-, (D-), and J-gene, and the complementary determining regions 1-3 (CDR1-3). Note, that all information is optional except the CDR3 sequence."
   ]
  },
  {
   "cell_type": "code",
   "execution_count": 5,
   "metadata": {},
   "outputs": [],
   "source": [
    "alpha_1 = ImmuneReceptorChain(chain_type=\"TRA\", \n",
    "                              v_gene=\"TRAV26-1\", \n",
    "                              j_gene=\"TRAJ43\",\n",
    "                              cdr3=\"CIVRAPGRADMRF\")\n",
    "beta_1 = ImmuneReceptorChain(chain_type=\"TRB\", \n",
    "                             v_gene=\"TRBV13\", \n",
    "                             j_gene=\"TRBJ1-5\",\n",
    "                             cdr3=\"CASSYLPGQGDHYSNQPQHF\")\n",
    "tcr_1 = ImmuneReceptor([alpha_1, beta_1], cell_type='CD4 T cell', organism=None)\n",
    "\n",
    "beta_2 = ImmuneReceptorChain(chain_type=\"TRB\", \n",
    "                             v_gene=\"TRBV5-8\", \n",
    "                             j_gene=\"TRBJ1-1\",\n",
    "                             cdr3=\"CASSTIRQGSNTFF\")\n",
    "tcr_2 = ImmuneReceptor([beta_2], cell_type='T cell')\n",
    "\n",
    "tcrs = [tcr_1, tcr_2]"
   ]
  },
  {
   "cell_type": "markdown",
   "metadata": {},
   "source": [
    "Of course we don't have to specify a full TCR repertoire by hand. We implemented interfaces to several formats of IRs (AIRR, Scirpy), databases (IEDB, VDJdb, McPas-TCR), and generall data frames."
   ]
  },
  {
   "cell_type": "code",
   "execution_count": 6,
   "metadata": {},
   "outputs": [],
   "source": [
    "path_data = '../../scrubs/McPAS-TCR.csv'"
   ]
  },
  {
   "cell_type": "code",
   "execution_count": 7,
   "metadata": {},
   "outputs": [
    {
     "data": {
      "text/plain": [
       "Index(['CDR3.alpha.aa', 'CDR3.beta.aa', 'Species', 'Category', 'Pathology',\n",
       "       'Pathology.Mesh.ID', 'Additional.study.details',\n",
       "       'Antigen.identification.method', 'Single.cell', 'NGS',\n",
       "       'Antigen.protein', 'Protein.ID', 'Epitope.peptide', 'Epitope.ID', 'MHC',\n",
       "       'Tissue', 'T.Cell.Type', 'T.cell.characteristics', 'CDR3.alpha.nt',\n",
       "       'TRAV', 'TRAJ', 'TRBV', 'TRBD', 'TRBJ', 'Reconstructed.J.annotation',\n",
       "       'CDR3.beta.nt', 'Mouse.strain', 'PubMed.ID', 'Remarks'],\n",
       "      dtype='object')"
      ]
     },
     "execution_count": 7,
     "metadata": {},
     "output_type": "execute_result"
    }
   ],
   "source": [
    "import pandas as pd\n",
    "df_tmp = pd.read_csv(path_data, encoding='cp1252', low_memory=False)\n",
    "df_tmp = df_tmp.fillna(\"\")\n",
    "df_tmp.columns"
   ]
  },
  {
   "cell_type": "code",
   "execution_count": 9,
   "metadata": {},
   "outputs": [],
   "source": [
    "tcr_repertoire = IRDatasetAdapterFactory(\"mcpas-tcr\")\n",
    "tcr_repertoire.from_path(path_data)"
   ]
  },
  {
   "cell_type": "code",
   "execution_count": 10,
   "metadata": {},
   "outputs": [
    {
     "data": {
      "text/plain": [
       "34206"
      ]
     },
     "execution_count": 10,
     "metadata": {},
     "output_type": "execute_result"
    }
   ],
   "source": [
    "len(tcr_repertoire.epitopes)"
   ]
  },
  {
   "cell_type": "code",
   "execution_count": 11,
   "metadata": {},
   "outputs": [
    {
     "data": {
      "text/plain": [
       "34206"
      ]
     },
     "execution_count": 11,
     "metadata": {},
     "output_type": "execute_result"
    }
   ],
   "source": [
    "len(tcr_repertoire.receptors)"
   ]
  },
  {
   "cell_type": "code",
   "execution_count": 12,
   "metadata": {},
   "outputs": [
    {
     "name": "stdout",
     "output_type": "stream",
     "text": [
      "CD8 ALPHA-BETA T CELL RECEPTOR\n",
      "in Mouse\n",
      " IMMUNE RECEPTOR CHAIN: TRA\n",
      " IMMUNE RECEPTOR CHAIN: TRB\n",
      " CDR3: CASSDAGANTEVF\n",
      " V_gene: TRBV8-1\n",
      " J_gene: TRBJ1-1\n",
      "\n",
      "CD8 ALPHA-BETA T CELL RECEPTOR\n",
      "in Mouse\n",
      " IMMUNE RECEPTOR CHAIN: TRA\n",
      " IMMUNE RECEPTOR CHAIN: TRB\n",
      " CDR3: CASSDAGAYAEQF\n",
      " V_gene: TRBV8-1\n",
      " J_gene: TRBJ2-1\n",
      "\n",
      "CD8 ALPHA-BETA T CELL RECEPTOR\n",
      "in Mouse\n",
      " IMMUNE RECEPTOR CHAIN: TRA\n",
      " IMMUNE RECEPTOR CHAIN: TRB\n",
      " CDR3: CASSDAGGAAEVF\n",
      " V_gene: TRBV8-3\n",
      " J_gene: TRBJ1-1\n",
      "\n"
     ]
    }
   ],
   "source": [
    "for tcr in tcr_repertoire.receptors[:3]:\n",
    "    print(tcr)\n",
    "    print()"
   ]
  },
  {
   "cell_type": "markdown",
   "metadata": {},
   "source": [
    "We can also convert the resulting repertoire back into a data frame if common format for better readability."
   ]
  },
  {
   "cell_type": "code",
   "execution_count": 13,
   "metadata": {},
   "outputs": [
    {
     "data": {
      "text/html": [
       "<div>\n",
       "<style scoped>\n",
       "    .dataframe tbody tr th:only-of-type {\n",
       "        vertical-align: middle;\n",
       "    }\n",
       "\n",
       "    .dataframe tbody tr th {\n",
       "        vertical-align: top;\n",
       "    }\n",
       "\n",
       "    .dataframe thead th {\n",
       "        text-align: right;\n",
       "    }\n",
       "</style>\n",
       "<table border=\"1\" class=\"dataframe\">\n",
       "  <thead>\n",
       "    <tr style=\"text-align: right;\">\n",
       "      <th></th>\n",
       "      <th>celltype</th>\n",
       "      <th>organism</th>\n",
       "      <th>VDJ_chain_type</th>\n",
       "      <th>VDJ_cdr1</th>\n",
       "      <th>VDJ_cdr2</th>\n",
       "      <th>VDJ_cdr3</th>\n",
       "      <th>VDJ_v_gene</th>\n",
       "      <th>VDJ_d_gene</th>\n",
       "      <th>VDJ_j_gene</th>\n",
       "      <th>VJ_chain_type</th>\n",
       "      <th>VJ_cdr1</th>\n",
       "      <th>VJ_cdr2</th>\n",
       "      <th>VJ_cdr3</th>\n",
       "      <th>VJ_v_gene</th>\n",
       "      <th>VJ_j_gene</th>\n",
       "    </tr>\n",
       "  </thead>\n",
       "  <tbody>\n",
       "    <tr>\n",
       "      <th>0</th>\n",
       "      <td>CD8 alpha-beta T cell</td>\n",
       "      <td>Mouse</td>\n",
       "      <td>TRB</td>\n",
       "      <td></td>\n",
       "      <td></td>\n",
       "      <td>CASSDAGANTEVF</td>\n",
       "      <td>TRBV8-1</td>\n",
       "      <td></td>\n",
       "      <td>TRBJ1-1</td>\n",
       "      <td>TRA</td>\n",
       "      <td></td>\n",
       "      <td></td>\n",
       "      <td></td>\n",
       "      <td></td>\n",
       "      <td></td>\n",
       "    </tr>\n",
       "    <tr>\n",
       "      <th>1</th>\n",
       "      <td>CD8 alpha-beta T cell</td>\n",
       "      <td>Mouse</td>\n",
       "      <td>TRB</td>\n",
       "      <td></td>\n",
       "      <td></td>\n",
       "      <td>CASSDAGAYAEQF</td>\n",
       "      <td>TRBV8-1</td>\n",
       "      <td></td>\n",
       "      <td>TRBJ2-1</td>\n",
       "      <td>TRA</td>\n",
       "      <td></td>\n",
       "      <td></td>\n",
       "      <td></td>\n",
       "      <td></td>\n",
       "      <td></td>\n",
       "    </tr>\n",
       "    <tr>\n",
       "      <th>2</th>\n",
       "      <td>CD8 alpha-beta T cell</td>\n",
       "      <td>Mouse</td>\n",
       "      <td>TRB</td>\n",
       "      <td></td>\n",
       "      <td></td>\n",
       "      <td>CASSDAGGAAEVF</td>\n",
       "      <td>TRBV8-3</td>\n",
       "      <td></td>\n",
       "      <td>TRBJ1-1</td>\n",
       "      <td>TRA</td>\n",
       "      <td></td>\n",
       "      <td></td>\n",
       "      <td></td>\n",
       "      <td></td>\n",
       "      <td></td>\n",
       "    </tr>\n",
       "    <tr>\n",
       "      <th>3</th>\n",
       "      <td>CD8 alpha-beta T cell</td>\n",
       "      <td>Mouse</td>\n",
       "      <td>TRB</td>\n",
       "      <td></td>\n",
       "      <td></td>\n",
       "      <td>CASSDAGHSPLYF</td>\n",
       "      <td>TRBV8-1</td>\n",
       "      <td></td>\n",
       "      <td>TRBJ1-6</td>\n",
       "      <td>TRA</td>\n",
       "      <td></td>\n",
       "      <td></td>\n",
       "      <td></td>\n",
       "      <td></td>\n",
       "      <td></td>\n",
       "    </tr>\n",
       "    <tr>\n",
       "      <th>4</th>\n",
       "      <td>CD8 alpha-beta T cell</td>\n",
       "      <td>Mouse</td>\n",
       "      <td>TRB</td>\n",
       "      <td></td>\n",
       "      <td></td>\n",
       "      <td>CASSDAWGGAEQYF</td>\n",
       "      <td>TRBV8-3</td>\n",
       "      <td></td>\n",
       "      <td>TRBJ2-6</td>\n",
       "      <td>TRA</td>\n",
       "      <td></td>\n",
       "      <td></td>\n",
       "      <td></td>\n",
       "      <td></td>\n",
       "      <td></td>\n",
       "    </tr>\n",
       "  </tbody>\n",
       "</table>\n",
       "</div>"
      ],
      "text/plain": [
       "                celltype organism VDJ_chain_type VDJ_cdr1 VDJ_cdr2  \\\n",
       "0  CD8 alpha-beta T cell    Mouse            TRB                     \n",
       "1  CD8 alpha-beta T cell    Mouse            TRB                     \n",
       "2  CD8 alpha-beta T cell    Mouse            TRB                     \n",
       "3  CD8 alpha-beta T cell    Mouse            TRB                     \n",
       "4  CD8 alpha-beta T cell    Mouse            TRB                     \n",
       "\n",
       "         VDJ_cdr3 VDJ_v_gene VDJ_d_gene VDJ_j_gene VJ_chain_type VJ_cdr1  \\\n",
       "0   CASSDAGANTEVF    TRBV8-1               TRBJ1-1           TRA           \n",
       "1   CASSDAGAYAEQF    TRBV8-1               TRBJ2-1           TRA           \n",
       "2   CASSDAGGAAEVF    TRBV8-3               TRBJ1-1           TRA           \n",
       "3   CASSDAGHSPLYF    TRBV8-1               TRBJ1-6           TRA           \n",
       "4  CASSDAWGGAEQYF    TRBV8-3               TRBJ2-6           TRA           \n",
       "\n",
       "  VJ_cdr2 VJ_cdr3 VJ_v_gene VJ_j_gene  \n",
       "0                                      \n",
       "1                                      \n",
       "2                                      \n",
       "3                                      \n",
       "4                                      "
      ]
     },
     "execution_count": 13,
     "metadata": {},
     "output_type": "execute_result"
    }
   ],
   "source": [
    "df_tmp = tcr_repertoire.to_pandas()\n",
    "df_tmp.head()"
   ]
  },
  {
   "cell_type": "markdown",
   "metadata": {},
   "source": [
    "epytope has only one entry point to the different prediction methods, namely `TCRSpecificityPredictorFactory`. It handles the initialization of the different methods and also collects newly implemented prediction methods if properly implemented. To see which prediction methods epytope supports `TCRSpecificityPredictorFactory` can helps here as well:"
   ]
  },
  {
   "cell_type": "code",
   "execution_count": 16,
   "metadata": {},
   "outputs": [],
   "source": [
    "for name, version in TCRSpecificityPredictorFactory.available_methods().items():\n",
    "    print(name, \",\".join(version))"
   ]
  },
  {
   "cell_type": "markdown",
   "metadata": {},
   "source": [
    "Lets select one and do predictions. "
   ]
  },
  {
   "cell_type": "code",
   "execution_count": 15,
   "metadata": {},
   "outputs": [
    {
     "ename": "ValueError",
     "evalue": "Predictor Syfpeithi is not known. Please verify that such an Predictor is supported by epytope and inherits ACleavageSitePrediction.",
     "output_type": "error",
     "traceback": [
      "\u001b[1;31m---------------------------------------------------------------------------\u001b[0m",
      "\u001b[1;31mKeyError\u001b[0m                                  Traceback (most recent call last)",
      "\u001b[1;32mD:\\Projects\\epytope\\epytope\\TCRSpecificityPrediction\\__init__.py\u001b[0m in \u001b[0;36m__call__\u001b[1;34m(self, _predictor, *args, **kwargs)\u001b[0m\n\u001b[0;32m     21\u001b[0m         \u001b[1;32mtry\u001b[0m\u001b[1;33m:\u001b[0m\u001b[1;33m\u001b[0m\u001b[1;33m\u001b[0m\u001b[0m\n\u001b[1;32m---> 22\u001b[1;33m             \u001b[1;32mreturn\u001b[0m \u001b[0mATCRSpecificityPrediction\u001b[0m\u001b[1;33m[\u001b[0m\u001b[0mstr\u001b[0m\u001b[1;33m(\u001b[0m\u001b[0m_predictor\u001b[0m\u001b[1;33m)\u001b[0m\u001b[1;33m.\u001b[0m\u001b[0mlower\u001b[0m\u001b[1;33m(\u001b[0m\u001b[1;33m)\u001b[0m\u001b[1;33m,\u001b[0m \u001b[0mversion\u001b[0m\u001b[1;33m]\u001b[0m\u001b[1;33m(\u001b[0m\u001b[1;33m*\u001b[0m\u001b[0margs\u001b[0m\u001b[1;33m)\u001b[0m\u001b[1;33m\u001b[0m\u001b[1;33m\u001b[0m\u001b[0m\n\u001b[0m\u001b[0;32m     23\u001b[0m         \u001b[1;32mexcept\u001b[0m \u001b[0mKeyError\u001b[0m \u001b[1;32mas\u001b[0m \u001b[0me\u001b[0m\u001b[1;33m:\u001b[0m\u001b[1;33m\u001b[0m\u001b[1;33m\u001b[0m\u001b[0m\n",
      "\u001b[1;32mD:\\Projects\\epytope\\epytope\\Core\\Base.py\u001b[0m in \u001b[0;36m__getitem__\u001b[1;34m(cls, args)\u001b[0m\n\u001b[0;32m     83\u001b[0m         \u001b[1;32mif\u001b[0m \u001b[0mversion\u001b[0m \u001b[1;32mis\u001b[0m \u001b[1;32mNone\u001b[0m\u001b[1;33m:\u001b[0m\u001b[1;33m\u001b[0m\u001b[1;33m\u001b[0m\u001b[0m\n\u001b[1;32m---> 84\u001b[1;33m             \u001b[1;32mreturn\u001b[0m \u001b[0mcls\u001b[0m\u001b[1;33m.\u001b[0m\u001b[0mregistry\u001b[0m\u001b[1;33m[\u001b[0m\u001b[0mname\u001b[0m\u001b[1;33m]\u001b[0m\u001b[1;33m[\u001b[0m\u001b[0mmax\u001b[0m\u001b[1;33m(\u001b[0m\u001b[0mcls\u001b[0m\u001b[1;33m.\u001b[0m\u001b[0mregistry\u001b[0m\u001b[1;33m[\u001b[0m\u001b[0mname\u001b[0m\u001b[1;33m]\u001b[0m\u001b[1;33m.\u001b[0m\u001b[0mkeys\u001b[0m\u001b[1;33m(\u001b[0m\u001b[1;33m)\u001b[0m\u001b[1;33m)\u001b[0m\u001b[1;33m]\u001b[0m\u001b[1;33m\u001b[0m\u001b[1;33m\u001b[0m\u001b[0m\n\u001b[0m\u001b[0;32m     85\u001b[0m         \u001b[1;32mreturn\u001b[0m \u001b[0mcls\u001b[0m\u001b[1;33m.\u001b[0m\u001b[0mregistry\u001b[0m\u001b[1;33m[\u001b[0m\u001b[0mname\u001b[0m\u001b[1;33m]\u001b[0m\u001b[1;33m[\u001b[0m\u001b[0mversion\u001b[0m\u001b[1;33m]\u001b[0m\u001b[1;33m\u001b[0m\u001b[1;33m\u001b[0m\u001b[0m\n",
      "\u001b[1;31mKeyError\u001b[0m: 'syfpeithi'",
      "\nDuring handling of the above exception, another exception occurred:\n",
      "\u001b[1;31mValueError\u001b[0m                                Traceback (most recent call last)",
      "\u001b[1;32m~\\AppData\\Local\\Temp\\ipykernel_21188\\3895978233.py\u001b[0m in \u001b[0;36m<module>\u001b[1;34m\u001b[0m\n\u001b[1;32m----> 1\u001b[1;33m \u001b[0mpredictor\u001b[0m \u001b[1;33m=\u001b[0m \u001b[0mTCRSpecificityPredictorFactory\u001b[0m\u001b[1;33m(\u001b[0m\u001b[1;34m\"Syfpeithi\"\u001b[0m\u001b[1;33m)\u001b[0m\u001b[1;33m\u001b[0m\u001b[1;33m\u001b[0m\u001b[0m\n\u001b[0m\u001b[0;32m      2\u001b[0m \u001b[0mresults\u001b[0m \u001b[1;33m=\u001b[0m \u001b[0mpredictor\u001b[0m\u001b[1;33m.\u001b[0m\u001b[0mpredict\u001b[0m\u001b[1;33m(\u001b[0m\u001b[0mpeptides2\u001b[0m\u001b[1;33m,\u001b[0m \u001b[0malleles\u001b[0m\u001b[1;33m=\u001b[0m\u001b[0malleles\u001b[0m\u001b[1;33m)\u001b[0m\u001b[1;33m\u001b[0m\u001b[1;33m\u001b[0m\u001b[0m\n\u001b[0;32m      3\u001b[0m \u001b[0mresults\u001b[0m\u001b[1;33m.\u001b[0m\u001b[0mhead\u001b[0m\u001b[1;33m(\u001b[0m\u001b[1;33m)\u001b[0m\u001b[1;33m\u001b[0m\u001b[1;33m\u001b[0m\u001b[0m\n",
      "\u001b[1;32mD:\\Projects\\epytope\\epytope\\TCRSpecificityPrediction\\__init__.py\u001b[0m in \u001b[0;36m__call__\u001b[1;34m(self, _predictor, *args, **kwargs)\u001b[0m\n\u001b[0;32m     25\u001b[0m                 raise ValueError(\n\u001b[0;32m     26\u001b[0m                     \u001b[1;34m\"Predictor %s is not known. Please verify that such an Predictor is \"\u001b[0m \u001b[1;33m%\u001b[0m \u001b[0m_predictor\u001b[0m \u001b[1;33m+\u001b[0m\u001b[1;33m\u001b[0m\u001b[1;33m\u001b[0m\u001b[0m\n\u001b[1;32m---> 27\u001b[1;33m                     \"supported by epytope and inherits ACleavageSitePrediction.\")\n\u001b[0m\u001b[0;32m     28\u001b[0m             \u001b[1;32melse\u001b[0m\u001b[1;33m:\u001b[0m\u001b[1;33m\u001b[0m\u001b[1;33m\u001b[0m\u001b[0m\n\u001b[0;32m     29\u001b[0m                 raise ValueError(\n",
      "\u001b[1;31mValueError\u001b[0m: Predictor Syfpeithi is not known. Please verify that such an Predictor is supported by epytope and inherits ACleavageSitePrediction."
     ]
    }
   ],
   "source": [
    "predictor = TCRSpecificityPredictorFactory(\"Syfpeithi\")\n",
    "results = predictor.predict(peptides2, alleles=alleles)\n",
    "results.head()"
   ]
  },
  {
   "cell_type": "markdown",
   "metadata": {},
   "source": [
    "External tools like `NetMHC` offer two additional flags when calling `.predict()`, `command=\"/path/to/binary\"` and `options=\"command options\"`. `command=\"\"` specifies the path to an alternative binary that should be used instead of the one that is globally registered. With `options=\"\"` you can specify additional commands that will directly be passed to the command line call without any sanity checks."
   ]
  },
  {
   "cell_type": "code",
   "execution_count": null,
   "metadata": {},
   "outputs": [],
   "source": [
    "predictor = EpitopePredictorFactory(\"Syfpeithi\", version=\"1.0\")\n",
    "results = predictor.predict(peptides2, alleles=alleles, options=\"-s -b\") \n",
    "results.head()"
   ]
  },
  {
   "cell_type": "markdown",
   "metadata": {},
   "source": [
    "<h2> Chapter 2: Data manipulation and consensus prediction</h2>\n",
    "<br/>\n",
    "The predictor all return a data table like object (DataFrame) storing the peptide and allele objects, as well as the predicted results. Because it is a inherited pandas DataFrame we can do all sorts of nifty thinks. \n",
    "\n",
    "For example exporting the results to tsv:"
   ]
  },
  {
   "cell_type": "code",
   "execution_count": null,
   "metadata": {},
   "outputs": [],
   "source": [
    "results.to_csv('./data/test.tsv', sep='\\t')"
   ]
  },
  {
   "cell_type": "markdown",
   "metadata": {},
   "source": [
    "Or we could plot the score distribution of a particular HLA allele."
   ]
  },
  {
   "cell_type": "code",
   "execution_count": null,
   "metadata": {},
   "outputs": [],
   "source": [
    "results.hist()"
   ]
  },
  {
   "cell_type": "markdown",
   "metadata": {},
   "source": [
    "To combine prediction results we can use `merge_results` from `epytope.Core`. In addition to the result object we want to merge, also have to specify the type of these objects (here `EpitopePredictionResult`). The function will return a merged results object of the same type."
   ]
  },
  {
   "cell_type": "code",
   "execution_count": null,
   "metadata": {},
   "outputs": [],
   "source": [
    "results = [EpitopePredictorFactory(m).predict(peptides,alleles=alleles) \n",
    "                    for m in [\"Syfpeithi\",\"BIMAS\",\"SMM\"]]\n",
    "df = results[0].merge_results(results[1:])\n",
    "df"
   ]
  },
  {
   "cell_type": "markdown",
   "metadata": {
    "collapsed": true
   },
   "source": [
    "We also can filter the predicted epitopes based on their prediction values with the function `filter_result` from `epytope.Core`."
   ]
  },
  {
   "cell_type": "code",
   "execution_count": null,
   "metadata": {
    "scrolled": true
   },
   "outputs": [],
   "source": [
    "#you can either use pre-defined operators from `operator`\n",
    "from operator import ge\n",
    "#or define you own comparator function like this\n",
    "comparator = lambda a,b: a > b\n",
    "\n",
    "df.filter_result(['HLA-A*02:01', 'syfpeithi', 'Score'], comparator, 20.0)"
   ]
  },
  {
   "cell_type": "markdown",
   "metadata": {},
   "source": [
    "With that one can combine several prediction tools to form a consensus prediction method.<br/><br/>\n",
    "<h2> Chapter 3: Implementation of a new epitope prediction method </h2>\n",
    "<br/>\n",
    "epytope possesses a potent plugin system allowing the user to extend its capability quite easily. To include a new epitope prediction method one simply has to inherit from `epytope.Core.AEpitopePrediction` and implement its interface. For methods calling an external prediction tool additionally have to inherit from `epytope.Core.AExternal`. SVM based methods also define a specific interface via `epytope.Core.ASVM`. epytope uses SVMlight and its python binding svmlight 0.4.\n",
    "\n",
    "If you want to be very specific and fully integrate your method in all of epytope's capabilities please use one of the three major interfaces `APSSMEpitopePrediction`, `ASVMEpitopePrediction`, or `AExternalEpitopePrediction` from `epytope.EpitopePrediction`."
   ]
  },
  {
   "cell_type": "code",
   "execution_count": null,
   "metadata": {},
   "outputs": [],
   "source": [
    "from epytope.EpitopePrediction import APSSMEpitopePrediction\n",
    "from epytope.Core import EpitopePredictionResult\n",
    "import random\n",
    "import pandas\n",
    "\n",
    "class RandomTCRSpecificityPrediction(APSSMEpitopePrediction):\n",
    "    __supported_tcr_length = ()\n",
    "    __supported_epitope_length =\n",
    "    __name = \"random\"\n",
    "    __version= \"1.0\"\n",
    "    \n",
    "    #the interface defines three class properties\n",
    "    @property\n",
    "    def name(self):\n",
    "        #returns the name of the predictor\n",
    "        return self.__name\n",
    "    \n",
    "    @property\n",
    "    def supported_tcr_length(self):\n",
    "        #returns the supported tcr lengths (min, max)\n",
    "        return self.__supported_tcr_length\n",
    "    \n",
    "    @property\n",
    "    def supported_epitope_length(self):\n",
    "        #returns the supported epitope lengths (min, max)\n",
    "        return self.__supported_epitope_length\n",
    "    \n",
    "    @property\n",
    "    def version(self):\n",
    "        #returns the version of the predictor\n",
    "        return self.__version\n",
    "    \n",
    "    #additionally the interface defines a function `predict` \n",
    "    #that consumes a list of peptides or a single peptide and optionally a list \n",
    "    #of allele objects\n",
    "    #\n",
    "    #this method implements the complete prediction routine\n",
    "    def predict(self, tcrs, epitopes):\n",
    "        \n",
    "        #test whether one peptide or a list\n",
    "        if isinstance(peptides, str):\n",
    "            peptides = list(peptides)\n",
    "        \n",
    "        #if no alleles are specified do predictions for all supported alleles\n",
    "        if alleles is None:\n",
    "            alleles = self.supportedAlleles\n",
    "        else:\n",
    "            #filter for supported alleles\n",
    "            alleles = filter(lambda a: a.name in self.supportedAlleles, alleles) \n",
    "        \n",
    "        scores = {}\n",
    "        #now predict binding/non-binding for each peptide at random\n",
    "        for a in alleles:\n",
    "            scores[a] = {}\n",
    "            for p in peptides:\n",
    "                if random.random() >= 0.5:\n",
    "                    scores[a][p] = 1.0\n",
    "                else:\n",
    "                    scores[a][p] = 0.0\n",
    "        \n",
    "        #create EpitopePredictionResult object from nested dictionary. This is a multi-column DataFrame \n",
    "        #with allele, method and scoretype as columns and peptides as indices\n",
    "        result = {allele: {self.__scoretype: list(scores.values())[i]} for i, allele in enumerate(alleles)}\n",
    "        \n",
    "        # converts the nested dictionary to a EpitopePredictionResult\n",
    "        df_result = EpitopePredictionResult.from_dict(result, peptides, self.__name)\n",
    "        \n",
    "        return df_result\n",
    "            \n",
    "    \n",
    "    \n",
    "    "
   ]
  },
  {
   "cell_type": "markdown",
   "metadata": {},
   "source": [
    "Now lets use our new predictor."
   ]
  },
  {
   "cell_type": "code",
   "execution_count": null,
   "metadata": {},
   "outputs": [],
   "source": [
    "TCRSpecificityPredictorFactory(\"random\").predict(peptides)"
   ]
  },
  {
   "cell_type": "markdown",
   "metadata": {},
   "source": [
    "The predictor is now fully integrated and can be used in any context defined by epytope."
   ]
  }
 ],
 "metadata": {
  "kernelspec": {
   "display_name": "Python [conda env:epytope]",
   "language": "python",
   "name": "conda-env-epytope-py"
  },
  "language_info": {
   "codemirror_mode": {
    "name": "ipython",
    "version": 3
   },
   "file_extension": ".py",
   "mimetype": "text/x-python",
   "name": "python",
   "nbconvert_exporter": "python",
   "pygments_lexer": "ipython3",
   "version": "3.7.16"
  }
 },
 "nbformat": 4,
 "nbformat_minor": 1
}
