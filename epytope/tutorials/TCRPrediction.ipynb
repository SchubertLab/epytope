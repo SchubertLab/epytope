{
 "cells": [
  {
   "cell_type": "markdown",
   "metadata": {},
   "source": [
    "<h1> Epitope Prediction </h1>\n",
    "\n",
    "This tutorial illustrates the use of epytope to predict T cell receptor (TCR) binding to epitopes and how to analyze results. epytope offers a long list of epitope prediction methods and was designed in such a way that extending epytope with your favorite method is easy.\n",
    "\n",
    "This tutorial will entail:\n",
    "- Simple TCR-epitope prediction from a repertoire of TCRs and selected epitopes\n",
    "- Manipulation of the results\n",
    "- Consensus prediction with multiple prediction methods\n",
    "- Integration of a new prediction method\n"
   ]
  },
  {
   "cell_type": "markdown",
   "metadata": {
    "collapsed": true
   },
   "source": [
    "<h2> Chapter 1: The basics </h2>\n",
    "<br/>\n",
    "We first start with importing the needed packages."
   ]
  },
  {
   "cell_type": "code",
   "execution_count": 1,
   "metadata": {},
   "outputs": [],
   "source": [
    "import sys\n",
    "sys.path.append('../..')"
   ]
  },
  {
   "cell_type": "code",
   "execution_count": 2,
   "metadata": {},
   "outputs": [],
   "source": [
    "%matplotlib inline\n",
    "%reload_ext autoreload\n",
    "%autoreload 2\n",
    "\n",
    "from epytope.Core import Peptide, Allele, TCREpitope, ImmuneReceptorChain, ImmuneReceptor\n",
    "\n",
    "from epytope.IO import IRDatasetAdapterFactory\n",
    "from epytope.TCRSpecificityPrediction import TCRSpecificityPredictorFactory"
   ]
  },
  {
   "cell_type": "markdown",
   "metadata": {},
   "source": [
    "Lets start of with something simple: Defining TCR-epitopes (consisting of peptides and optionally HLA alleles) and TCRs. You find all basic classes under `epytope.Core`. For more information on HLA alleles and peptides see the tutorial `EpitopePrediction.ipynb`."
   ]
  },
  {
   "cell_type": "code",
   "execution_count": 3,
   "metadata": {},
   "outputs": [
    {
     "data": {
      "text/plain": [
       "TCR EPITOPE:\n",
       " PEPTIDE SYFPEITHI\n",
       " bound by ALLELE: HLA-A*02:01"
      ]
     },
     "execution_count": 3,
     "metadata": {},
     "output_type": "execute_result"
    }
   ],
   "source": [
    "peptide = Peptide(\"SYFPEITHI\")\n",
    "allele = Allele(\"HLA-A*02:01\")\n",
    "epitope_1 = TCREpitope(peptide=peptide, allele=allele)\n",
    "epitope_1"
   ]
  },
  {
   "cell_type": "code",
   "execution_count": 4,
   "metadata": {},
   "outputs": [
    {
     "data": {
      "text/plain": [
       "TCR EPITOPE:\n",
       " PEPTIDE EAAGIGILTV"
      ]
     },
     "execution_count": 4,
     "metadata": {},
     "output_type": "execute_result"
    }
   ],
   "source": [
    "epitope_2 = TCREpitope(peptide=\"EAAGIGILTV\", allele=None)\n",
    "epitope_2"
   ]
  },
  {
   "cell_type": "markdown",
   "metadata": {},
   "source": [
    "Next we will start to define a TCR from the superclass Immune receptor, which also can store B cell receptors (BCRs). Each TCR consists of at least 1 Immune Receptor Chain, that is typicall an α- or β-chain for TCR-Epitope prediction, as γ-δ TCRs are typically not considered by the predictors. Additionally, you can provide the celltype (e.g. \"CD4 T cell\"), and its host organism.\n",
    "\n",
    "Each IR-Chain can contain the following information: chain type (out of [\"TRA\", \"TRB\", \"TRG\", \"TRD\", \"IGK\", \"IGH\", \"IGL\"]), V-, (D-), and J-gene, and the complementary determining regions 1-3 (CDR1-3). Note, that all information is optional except the CDR3 sequence."
   ]
  },
  {
   "cell_type": "code",
   "execution_count": 5,
   "metadata": {},
   "outputs": [],
   "source": [
    "alpha_1 = ImmuneReceptorChain(chain_type=\"TRA\", \n",
    "                              v_gene=\"TRAV26-1\", \n",
    "                              j_gene=\"TRAJ43\",\n",
    "                              cdr3=\"CIVRAPGRADMRF\")\n",
    "beta_1 = ImmuneReceptorChain(chain_type=\"TRB\", \n",
    "                             v_gene=\"TRBV13\", \n",
    "                             j_gene=\"TRBJ1-5\",\n",
    "                             cdr3=\"CASSYLPGQGDHYSNQPQHF\")\n",
    "tcr_1 = ImmuneReceptor([alpha_1, beta_1], cell_type='CD4 T cell', organism=None)\n",
    "\n",
    "beta_2 = ImmuneReceptorChain(chain_type=\"TRB\", \n",
    "                             v_gene=\"TRBV5-8\", \n",
    "                             j_gene=\"TRBJ1-1\",\n",
    "                             cdr3=\"CASSTIRQGSNTFF\")\n",
    "tcr_2 = ImmuneReceptor([beta_2], cell_type='T cell')\n",
    "\n",
    "tcrs = [tcr_1, tcr_2]"
   ]
  },
  {
   "cell_type": "markdown",
   "metadata": {},
   "source": [
    "Of course we don't have to specify a full TCR repertoire by hand. We implemented interfaces to several formats of IRs (AIRR, Scirpy), databases (IEDB, VDJdb, McPas-TCR), and generall data frames."
   ]
  },
  {
   "cell_type": "code",
   "execution_count": 6,
   "metadata": {},
   "outputs": [],
   "source": [
    "path_data = '../../scrubs/vdjdb.tsv'"
   ]
  },
  {
   "cell_type": "code",
   "execution_count": 7,
   "metadata": {},
   "outputs": [
    {
     "name": "stdout",
     "output_type": "stream",
     "text": [
      "vdjdb 2023.06.01\n",
      "iedb 1.0.0\n",
      "mcpas-tcr 1.0.0\n",
      "scirpy 0.10.1\n",
      "airr scirpy:0.10.1\n",
      "dataframe 0.0.0.1\n"
     ]
    }
   ],
   "source": [
    "for name, version in IRDatasetAdapterFactory.available_methods().items():\n",
    "    print(name, \",\".join(version))"
   ]
  },
  {
   "cell_type": "code",
   "execution_count": 8,
   "metadata": {},
   "outputs": [],
   "source": [
    "tcr_repertoire = IRDatasetAdapterFactory(\"vdjdb\")\n",
    "tcr_repertoire.from_path(path_data)\n",
    "tcr_repertoire.receptors = tcr_repertoire.receptors[:20]"
   ]
  },
  {
   "cell_type": "code",
   "execution_count": 9,
   "metadata": {},
   "outputs": [
    {
     "name": "stdout",
     "output_type": "stream",
     "text": [
      "ALPHA-BETA T CELL RECEPTOR\n",
      "in HomoSapiens\n",
      " IMMUNE RECEPTOR CHAIN: TRA\n",
      " CDR3: CIVRAPGRADMRF\n",
      " V_gene: TRAV26-1*01\n",
      " J_gene: TRAJ43*01\n",
      " IMMUNE RECEPTOR CHAIN: TRB\n",
      " CDR3: CASSYLPGQGDHYSNQPQHF\n",
      " V_gene: TRBV13*01\n",
      " J_gene: TRBJ1-5*01\n",
      "\n",
      "ALPHA-BETA T CELL RECEPTOR\n",
      "in HomoSapiens\n",
      " IMMUNE RECEPTOR CHAIN: TRA\n",
      " CDR3: CAVPSGAGSYQLTF\n",
      " V_gene: TRAV20*01\n",
      " J_gene: TRAJ28*01\n",
      " IMMUNE RECEPTOR CHAIN: TRB\n",
      " CDR3: CASSFEPGQGFYSNQPQHF\n",
      " V_gene: TRBV13*01\n",
      " J_gene: TRBJ1-5*01\n",
      "\n",
      "ALPHA-BETA T CELL RECEPTOR\n",
      "in HomoSapiens\n",
      " IMMUNE RECEPTOR CHAIN: TRA\n",
      " CDR3: CAVKASGSRLT\n",
      " V_gene: TRAV2*01\n",
      " IMMUNE RECEPTOR CHAIN: TRB\n",
      " CDR3: CASSYEPGQVSHYSNQPQHF\n",
      " V_gene: TRBV13*01\n",
      " J_gene: TRBJ1-5*01\n",
      "\n"
     ]
    }
   ],
   "source": [
    "for tcr in tcr_repertoire.receptors[:3]:\n",
    "    print(tcr)\n",
    "    print()"
   ]
  },
  {
   "cell_type": "markdown",
   "metadata": {},
   "source": [
    "We can also convert the resulting repertoire back into a data frame if common format for better readability."
   ]
  },
  {
   "cell_type": "code",
   "execution_count": 10,
   "metadata": {},
   "outputs": [
    {
     "data": {
      "text/html": [
       "<div>\n",
       "<style scoped>\n",
       "    .dataframe tbody tr th:only-of-type {\n",
       "        vertical-align: middle;\n",
       "    }\n",
       "\n",
       "    .dataframe tbody tr th {\n",
       "        vertical-align: top;\n",
       "    }\n",
       "\n",
       "    .dataframe thead th {\n",
       "        text-align: right;\n",
       "    }\n",
       "</style>\n",
       "<table border=\"1\" class=\"dataframe\">\n",
       "  <thead>\n",
       "    <tr style=\"text-align: right;\">\n",
       "      <th></th>\n",
       "      <th>celltype</th>\n",
       "      <th>organism</th>\n",
       "      <th>VDJ_chain_type</th>\n",
       "      <th>VDJ_cdr3</th>\n",
       "      <th>VDJ_v_gene</th>\n",
       "      <th>VDJ_d_gene</th>\n",
       "      <th>VDJ_j_gene</th>\n",
       "      <th>VJ_chain_type</th>\n",
       "      <th>VJ_cdr3</th>\n",
       "      <th>VJ_v_gene</th>\n",
       "      <th>VJ_j_gene</th>\n",
       "    </tr>\n",
       "  </thead>\n",
       "  <tbody>\n",
       "    <tr>\n",
       "      <th>0</th>\n",
       "      <td>alpha-beta T cell</td>\n",
       "      <td>HomoSapiens</td>\n",
       "      <td>TRB</td>\n",
       "      <td>CASSYLPGQGDHYSNQPQHF</td>\n",
       "      <td>TRBV13*01</td>\n",
       "      <td></td>\n",
       "      <td>TRBJ1-5*01</td>\n",
       "      <td>TRA</td>\n",
       "      <td>CIVRAPGRADMRF</td>\n",
       "      <td>TRAV26-1*01</td>\n",
       "      <td>TRAJ43*01</td>\n",
       "    </tr>\n",
       "    <tr>\n",
       "      <th>1</th>\n",
       "      <td>alpha-beta T cell</td>\n",
       "      <td>HomoSapiens</td>\n",
       "      <td>TRB</td>\n",
       "      <td>CASSFEPGQGFYSNQPQHF</td>\n",
       "      <td>TRBV13*01</td>\n",
       "      <td></td>\n",
       "      <td>TRBJ1-5*01</td>\n",
       "      <td>TRA</td>\n",
       "      <td>CAVPSGAGSYQLTF</td>\n",
       "      <td>TRAV20*01</td>\n",
       "      <td>TRAJ28*01</td>\n",
       "    </tr>\n",
       "    <tr>\n",
       "      <th>2</th>\n",
       "      <td>alpha-beta T cell</td>\n",
       "      <td>HomoSapiens</td>\n",
       "      <td>TRB</td>\n",
       "      <td>CASSYEPGQVSHYSNQPQHF</td>\n",
       "      <td>TRBV13*01</td>\n",
       "      <td></td>\n",
       "      <td>TRBJ1-5*01</td>\n",
       "      <td>TRA</td>\n",
       "      <td>CAVKASGSRLT</td>\n",
       "      <td>TRAV2*01</td>\n",
       "      <td></td>\n",
       "    </tr>\n",
       "    <tr>\n",
       "      <th>3</th>\n",
       "      <td>alpha-beta T cell</td>\n",
       "      <td>HomoSapiens</td>\n",
       "      <td>TRB</td>\n",
       "      <td>CASSALASLNEQFF</td>\n",
       "      <td>TRBV14*01</td>\n",
       "      <td></td>\n",
       "      <td>TRBJ2-1*01</td>\n",
       "      <td>TRA</td>\n",
       "      <td>CAYRPPGTYKYIF</td>\n",
       "      <td>TRAV38-2/DV8*01</td>\n",
       "      <td>TRAJ40*01</td>\n",
       "    </tr>\n",
       "    <tr>\n",
       "      <th>4</th>\n",
       "      <td>alpha-beta T cell</td>\n",
       "      <td>HomoSapiens</td>\n",
       "      <td>TRB</td>\n",
       "      <td>CASSYLPGQGDHYSNQPQHF</td>\n",
       "      <td>TRBV13*01</td>\n",
       "      <td></td>\n",
       "      <td>TRBJ1-5*01</td>\n",
       "      <td>TRA</td>\n",
       "      <td>CIVRAPGRADMRF</td>\n",
       "      <td>TRAV26-1*01</td>\n",
       "      <td>TRAJ43*01</td>\n",
       "    </tr>\n",
       "  </tbody>\n",
       "</table>\n",
       "</div>"
      ],
      "text/plain": [
       "            celltype     organism VDJ_chain_type              VDJ_cdr3  \\\n",
       "0  alpha-beta T cell  HomoSapiens            TRB  CASSYLPGQGDHYSNQPQHF   \n",
       "1  alpha-beta T cell  HomoSapiens            TRB   CASSFEPGQGFYSNQPQHF   \n",
       "2  alpha-beta T cell  HomoSapiens            TRB  CASSYEPGQVSHYSNQPQHF   \n",
       "3  alpha-beta T cell  HomoSapiens            TRB        CASSALASLNEQFF   \n",
       "4  alpha-beta T cell  HomoSapiens            TRB  CASSYLPGQGDHYSNQPQHF   \n",
       "\n",
       "  VDJ_v_gene VDJ_d_gene  VDJ_j_gene VJ_chain_type         VJ_cdr3  \\\n",
       "0  TRBV13*01             TRBJ1-5*01           TRA   CIVRAPGRADMRF   \n",
       "1  TRBV13*01             TRBJ1-5*01           TRA  CAVPSGAGSYQLTF   \n",
       "2  TRBV13*01             TRBJ1-5*01           TRA     CAVKASGSRLT   \n",
       "3  TRBV14*01             TRBJ2-1*01           TRA   CAYRPPGTYKYIF   \n",
       "4  TRBV13*01             TRBJ1-5*01           TRA   CIVRAPGRADMRF   \n",
       "\n",
       "         VJ_v_gene  VJ_j_gene  \n",
       "0      TRAV26-1*01  TRAJ43*01  \n",
       "1        TRAV20*01  TRAJ28*01  \n",
       "2         TRAV2*01             \n",
       "3  TRAV38-2/DV8*01  TRAJ40*01  \n",
       "4      TRAV26-1*01  TRAJ43*01  "
      ]
     },
     "execution_count": 10,
     "metadata": {},
     "output_type": "execute_result"
    }
   ],
   "source": [
    "df_tmp = tcr_repertoire.to_pandas()\n",
    "df_tmp.head()"
   ]
  },
  {
   "cell_type": "markdown",
   "metadata": {},
   "source": [
    "epytope has only one entry point to the different prediction methods, namely `TCRSpecificityPredictorFactory`. It handles the initialization of the different methods and also collects newly implemented prediction methods if properly implemented. To see which prediction methods epytope supports `TCRSpecificityPredictorFactory` can helps here as well:"
   ]
  },
  {
   "cell_type": "code",
   "execution_count": 11,
   "metadata": {
    "scrolled": true
   },
   "outputs": [
    {
     "name": "stdout",
     "output_type": "stream",
     "text": [
      "imrex \n",
      "titan 1.0.0\n",
      "ergo-ii \n",
      "pmtnet \n",
      "epitcr \n",
      "atm-tcr \n"
     ]
    }
   ],
   "source": [
    "for name, version in TCRSpecificityPredictorFactory.available_methods().items():\n",
    "    print(name, \",\".join(version))"
   ]
  },
  {
   "cell_type": "code",
   "execution_count": 12,
   "metadata": {},
   "outputs": [
    {
     "data": {
      "text/plain": [
       "TCR EPITOPE:\n",
       " PEPTIDE SYFPEITHI\n",
       " bound by ALLELE: HLA-A*02:01"
      ]
     },
     "execution_count": 12,
     "metadata": {},
     "output_type": "execute_result"
    }
   ],
   "source": [
    "epitope_1"
   ]
  },
  {
   "cell_type": "code",
   "execution_count": 20,
   "metadata": {},
   "outputs": [
    {
     "data": {
      "text/plain": [
       "20"
      ]
     },
     "execution_count": 20,
     "metadata": {},
     "output_type": "execute_result"
    }
   ],
   "source": [
    "len(tcr_repertoire.receptors)"
   ]
  },
  {
   "cell_type": "code",
   "execution_count": null,
   "metadata": {},
   "outputs": [],
   "source": [
    "epitope_1"
   ]
  },
  {
   "cell_type": "code",
   "execution_count": 29,
   "metadata": {
    "scrolled": false
   },
   "outputs": [
    {
     "name": "stdout",
     "output_type": "stream",
     "text": [
      "['celltype', 'organism', 'VDJ_chain_type', 'VDJ_cdr3', 'VDJ_v_gene', 'VDJ_d_gene', 'VDJ_j_gene', 'VJ_chain_type', 'VJ_cdr3', 'VJ_v_gene', 'VJ_j_gene', 'Epitope', 'MHC', 'Score']\n",
      "[('TCR', 'celltype'), ('TCR', 'organism'), ('TCR', 'VDJ_chain_type'), ('TCR', 'VDJ_cdr3'), ('TCR', 'VDJ_v_gene'), ('TCR', 'VDJ_d_gene'), ('TCR', 'VDJ_j_gene'), ('TCR', 'VJ_chain_type'), ('TCR', 'VJ_cdr3'), ('TCR', 'VJ_v_gene'), ('TCR', 'VJ_j_gene'), ('Epitope', 'Peptide'), ('Epitope', 'MHC'), ('Method', 'TITAN')]\n"
     ]
    },
    {
     "data": {
      "text/html": [
       "<div>\n",
       "<style scoped>\n",
       "    .dataframe tbody tr th:only-of-type {\n",
       "        vertical-align: middle;\n",
       "    }\n",
       "\n",
       "    .dataframe tbody tr th {\n",
       "        vertical-align: top;\n",
       "    }\n",
       "\n",
       "    .dataframe thead tr th {\n",
       "        text-align: left;\n",
       "    }\n",
       "</style>\n",
       "<table border=\"1\" class=\"dataframe\">\n",
       "  <thead>\n",
       "    <tr>\n",
       "      <th></th>\n",
       "      <th colspan=\"11\" halign=\"left\">TCR</th>\n",
       "      <th colspan=\"2\" halign=\"left\">Epitope</th>\n",
       "      <th>Method</th>\n",
       "    </tr>\n",
       "    <tr>\n",
       "      <th></th>\n",
       "      <th>celltype</th>\n",
       "      <th>organism</th>\n",
       "      <th>VDJ_chain_type</th>\n",
       "      <th>VDJ_cdr3</th>\n",
       "      <th>VDJ_v_gene</th>\n",
       "      <th>VDJ_d_gene</th>\n",
       "      <th>VDJ_j_gene</th>\n",
       "      <th>VJ_chain_type</th>\n",
       "      <th>VJ_cdr3</th>\n",
       "      <th>VJ_v_gene</th>\n",
       "      <th>VJ_j_gene</th>\n",
       "      <th>Peptide</th>\n",
       "      <th>MHC</th>\n",
       "      <th>TITAN</th>\n",
       "    </tr>\n",
       "  </thead>\n",
       "  <tbody>\n",
       "    <tr>\n",
       "      <th>0</th>\n",
       "      <td>alpha-beta T cell</td>\n",
       "      <td>HomoSapiens</td>\n",
       "      <td>TRB</td>\n",
       "      <td>CASSYLPGQGDHYSNQPQHF</td>\n",
       "      <td>TRBV13*01</td>\n",
       "      <td></td>\n",
       "      <td>TRBJ1-5*01</td>\n",
       "      <td>TRA</td>\n",
       "      <td>CIVRAPGRADMRF</td>\n",
       "      <td>TRAV26-1*01</td>\n",
       "      <td>TRAJ43*01</td>\n",
       "      <td>SYFPEITHI</td>\n",
       "      <td>HLA-A*02:01</td>\n",
       "      <td>0.177025</td>\n",
       "    </tr>\n",
       "    <tr>\n",
       "      <th>1</th>\n",
       "      <td>alpha-beta T cell</td>\n",
       "      <td>HomoSapiens</td>\n",
       "      <td>TRB</td>\n",
       "      <td>CASSFEPGQGFYSNQPQHF</td>\n",
       "      <td>TRBV13*01</td>\n",
       "      <td></td>\n",
       "      <td>TRBJ1-5*01</td>\n",
       "      <td>TRA</td>\n",
       "      <td>CAVPSGAGSYQLTF</td>\n",
       "      <td>TRAV20*01</td>\n",
       "      <td>TRAJ28*01</td>\n",
       "      <td>SYFPEITHI</td>\n",
       "      <td>HLA-A*02:01</td>\n",
       "      <td>0.190090</td>\n",
       "    </tr>\n",
       "    <tr>\n",
       "      <th>2</th>\n",
       "      <td>alpha-beta T cell</td>\n",
       "      <td>HomoSapiens</td>\n",
       "      <td>TRB</td>\n",
       "      <td>CASSYEPGQVSHYSNQPQHF</td>\n",
       "      <td>TRBV13*01</td>\n",
       "      <td></td>\n",
       "      <td>TRBJ1-5*01</td>\n",
       "      <td>TRA</td>\n",
       "      <td>CAVKASGSRLT</td>\n",
       "      <td>TRAV2*01</td>\n",
       "      <td></td>\n",
       "      <td>SYFPEITHI</td>\n",
       "      <td>HLA-A*02:01</td>\n",
       "      <td>0.169054</td>\n",
       "    </tr>\n",
       "  </tbody>\n",
       "</table>\n",
       "</div>"
      ],
      "text/plain": [
       "                 TCR                                                    \\\n",
       "            celltype     organism VDJ_chain_type              VDJ_cdr3   \n",
       "0  alpha-beta T cell  HomoSapiens            TRB  CASSYLPGQGDHYSNQPQHF   \n",
       "1  alpha-beta T cell  HomoSapiens            TRB   CASSFEPGQGFYSNQPQHF   \n",
       "2  alpha-beta T cell  HomoSapiens            TRB  CASSYEPGQVSHYSNQPQHF   \n",
       "\n",
       "                                                                   \\\n",
       "  VDJ_v_gene VDJ_d_gene  VDJ_j_gene VJ_chain_type         VJ_cdr3   \n",
       "0  TRBV13*01             TRBJ1-5*01           TRA   CIVRAPGRADMRF   \n",
       "1  TRBV13*01             TRBJ1-5*01           TRA  CAVPSGAGSYQLTF   \n",
       "2  TRBV13*01             TRBJ1-5*01           TRA     CAVKASGSRLT   \n",
       "\n",
       "                             Epitope                 Method  \n",
       "     VJ_v_gene  VJ_j_gene    Peptide          MHC     TITAN  \n",
       "0  TRAV26-1*01  TRAJ43*01  SYFPEITHI  HLA-A*02:01  0.177025  \n",
       "1    TRAV20*01  TRAJ28*01  SYFPEITHI  HLA-A*02:01  0.190090  \n",
       "2     TRAV2*01             SYFPEITHI  HLA-A*02:01  0.169054  "
      ]
     },
     "execution_count": 29,
     "metadata": {},
     "output_type": "execute_result"
    }
   ],
   "source": [
    "predictor = TCRSpecificityPredictorFactory(\"titan\")\n",
    "results = predictor.predict(tcr_repertoire, [epitope_1] * len(tcr_repertoire.receptors), \n",
    "                            conda=\"epytope_torch10\",\n",
    "                            pairwise=False)\n",
    "results.head(3)"
   ]
  },
  {
   "cell_type": "code",
   "execution_count": 35,
   "metadata": {
    "scrolled": false
   },
   "outputs": [
    {
     "name": "stdout",
     "output_type": "stream",
     "text": [
      "   VDJ_v_gene  VDJ_j_gene              VDJ_cdr3     Epitope     Score\n",
      "0   TRBV13*01  TRBJ1-5*01  CASSYLPGQGDHYSNQPQHF   SYFPEITHI  0.177025\n",
      "1   TRBV13*01  TRBJ1-5*01   CASSFEPGQGFYSNQPQHF   SYFPEITHI  0.190090\n",
      "2   TRBV13*01  TRBJ1-5*01  CASSYEPGQVSHYSNQPQHF   SYFPEITHI  0.169054\n",
      "3   TRBV14*01  TRBJ2-1*01        CASSALASLNEQFF   SYFPEITHI  0.342878\n",
      "4   TRBV28*01  TRBJ2-1*01         CASSFTPYNEQFF   SYFPEITHI  0.192828\n",
      "5   TRBV28*01  TRBJ1-1*01        CASSPQGLGTEAFF   SYFPEITHI  0.347369\n",
      "6   TRBV28*01  TRBJ1-5*01        CAEGQGFVGQPQHF   SYFPEITHI  0.316065\n",
      "7   TRBV28*01  TRBJ2-3*01       CASLRSAVWADTQYF   SYFPEITHI  0.290837\n",
      "8   TRBV28*01  TRBJ1-5*01        CASTLTGLGQPQHF   SYFPEITHI  0.340190\n",
      "9   TRBV28*01  TRBJ1-1*01        CASSFQGLGTEAFF   SYFPEITHI  0.192499\n",
      "10  TRBV27*01  TRBJ2-1*01           CASSFNDEQFF   SYFPEITHI  0.221847\n",
      "11  TRBV13*01  TRBJ1-5*01  CASSYLPGQGDHYSNQPQHF  EAAGIGILTV  0.449186\n",
      "12  TRBV13*01  TRBJ1-5*01   CASSFEPGQGFYSNQPQHF  EAAGIGILTV  0.203096\n",
      "13  TRBV13*01  TRBJ1-5*01  CASSYEPGQVSHYSNQPQHF  EAAGIGILTV  0.402543\n",
      "14  TRBV14*01  TRBJ2-1*01        CASSALASLNEQFF  EAAGIGILTV  0.370735\n",
      "15  TRBV28*01  TRBJ2-1*01         CASSFTPYNEQFF  EAAGIGILTV  0.209854\n",
      "16  TRBV28*01  TRBJ1-1*01        CASSPQGLGTEAFF  EAAGIGILTV  0.340134\n",
      "17  TRBV28*01  TRBJ1-5*01        CAEGQGFVGQPQHF  EAAGIGILTV  0.382178\n",
      "18  TRBV28*01  TRBJ2-3*01       CASLRSAVWADTQYF  EAAGIGILTV  0.458834\n",
      "19  TRBV28*01  TRBJ1-5*01        CASTLTGLGQPQHF  EAAGIGILTV  0.398607\n",
      "20  TRBV28*01  TRBJ1-1*01        CASSFQGLGTEAFF  EAAGIGILTV  0.724627\n",
      "21  TRBV27*01  TRBJ2-1*01           CASSFNDEQFF  EAAGIGILTV  0.581897\n",
      "   VDJ_v_gene  VDJ_j_gene              VDJ_cdr3     Epitope     Score\n",
      "0   TRBV13*01  TRBJ1-5*01  CASSYLPGQGDHYSNQPQHF   SYFPEITHI  0.177025\n",
      "1   TRBV13*01  TRBJ1-5*01   CASSFEPGQGFYSNQPQHF   SYFPEITHI  0.190090\n",
      "2   TRBV13*01  TRBJ1-5*01  CASSYEPGQVSHYSNQPQHF   SYFPEITHI  0.169054\n",
      "3   TRBV14*01  TRBJ2-1*01        CASSALASLNEQFF   SYFPEITHI  0.342878\n",
      "4   TRBV28*01  TRBJ2-1*01         CASSFTPYNEQFF   SYFPEITHI  0.192828\n",
      "5   TRBV28*01  TRBJ1-1*01        CASSPQGLGTEAFF   SYFPEITHI  0.347369\n",
      "6   TRBV28*01  TRBJ1-5*01        CAEGQGFVGQPQHF   SYFPEITHI  0.316065\n",
      "7   TRBV28*01  TRBJ2-3*01       CASLRSAVWADTQYF   SYFPEITHI  0.290837\n",
      "8   TRBV28*01  TRBJ1-5*01        CASTLTGLGQPQHF   SYFPEITHI  0.340190\n",
      "9   TRBV28*01  TRBJ1-1*01        CASSFQGLGTEAFF   SYFPEITHI  0.192499\n",
      "10  TRBV27*01  TRBJ2-1*01           CASSFNDEQFF   SYFPEITHI  0.221847\n",
      "11  TRBV13*01  TRBJ1-5*01  CASSYLPGQGDHYSNQPQHF  EAAGIGILTV  0.449186\n",
      "12  TRBV13*01  TRBJ1-5*01   CASSFEPGQGFYSNQPQHF  EAAGIGILTV  0.203096\n",
      "13  TRBV13*01  TRBJ1-5*01  CASSYEPGQVSHYSNQPQHF  EAAGIGILTV  0.402543\n",
      "14  TRBV14*01  TRBJ2-1*01        CASSALASLNEQFF  EAAGIGILTV  0.370735\n",
      "15  TRBV28*01  TRBJ2-1*01         CASSFTPYNEQFF  EAAGIGILTV  0.209854\n",
      "16  TRBV28*01  TRBJ1-1*01        CASSPQGLGTEAFF  EAAGIGILTV  0.340134\n",
      "17  TRBV28*01  TRBJ1-5*01        CAEGQGFVGQPQHF  EAAGIGILTV  0.382178\n",
      "18  TRBV28*01  TRBJ2-3*01       CASLRSAVWADTQYF  EAAGIGILTV  0.458834\n",
      "19  TRBV28*01  TRBJ1-5*01        CASTLTGLGQPQHF  EAAGIGILTV  0.398607\n",
      "20  TRBV28*01  TRBJ1-1*01        CASSFQGLGTEAFF  EAAGIGILTV  0.724627\n",
      "21  TRBV27*01  TRBJ2-1*01           CASSFNDEQFF  EAAGIGILTV  0.581897\n"
     ]
    },
    {
     "data": {
      "text/html": [
       "<div>\n",
       "<style scoped>\n",
       "    .dataframe tbody tr th:only-of-type {\n",
       "        vertical-align: middle;\n",
       "    }\n",
       "\n",
       "    .dataframe tbody tr th {\n",
       "        vertical-align: top;\n",
       "    }\n",
       "\n",
       "    .dataframe thead tr th {\n",
       "        text-align: left;\n",
       "    }\n",
       "</style>\n",
       "<table border=\"1\" class=\"dataframe\">\n",
       "  <thead>\n",
       "    <tr>\n",
       "      <th></th>\n",
       "      <th colspan=\"11\" halign=\"left\">TCR</th>\n",
       "      <th>SYFPEITHI, HLA-A*02:01</th>\n",
       "      <th>EAAGIGILTV</th>\n",
       "    </tr>\n",
       "    <tr>\n",
       "      <th></th>\n",
       "      <th>celltype</th>\n",
       "      <th>organism</th>\n",
       "      <th>VDJ_chain_type</th>\n",
       "      <th>VDJ_cdr3</th>\n",
       "      <th>VDJ_v_gene</th>\n",
       "      <th>VDJ_d_gene</th>\n",
       "      <th>VDJ_j_gene</th>\n",
       "      <th>VJ_chain_type</th>\n",
       "      <th>VJ_cdr3</th>\n",
       "      <th>VJ_v_gene</th>\n",
       "      <th>VJ_j_gene</th>\n",
       "      <th>TITAN</th>\n",
       "      <th>TITAN</th>\n",
       "    </tr>\n",
       "  </thead>\n",
       "  <tbody>\n",
       "    <tr>\n",
       "      <th>0</th>\n",
       "      <td>alpha-beta T cell</td>\n",
       "      <td>HomoSapiens</td>\n",
       "      <td>TRB</td>\n",
       "      <td>CASSYLPGQGDHYSNQPQHF</td>\n",
       "      <td>TRBV13*01</td>\n",
       "      <td></td>\n",
       "      <td>TRBJ1-5*01</td>\n",
       "      <td>TRA</td>\n",
       "      <td>CIVRAPGRADMRF</td>\n",
       "      <td>TRAV26-1*01</td>\n",
       "      <td>TRAJ43*01</td>\n",
       "      <td>0.177025</td>\n",
       "      <td>0.449186</td>\n",
       "    </tr>\n",
       "    <tr>\n",
       "      <th>1</th>\n",
       "      <td>alpha-beta T cell</td>\n",
       "      <td>HomoSapiens</td>\n",
       "      <td>TRB</td>\n",
       "      <td>CASSFEPGQGFYSNQPQHF</td>\n",
       "      <td>TRBV13*01</td>\n",
       "      <td></td>\n",
       "      <td>TRBJ1-5*01</td>\n",
       "      <td>TRA</td>\n",
       "      <td>CAVPSGAGSYQLTF</td>\n",
       "      <td>TRAV20*01</td>\n",
       "      <td>TRAJ28*01</td>\n",
       "      <td>0.190090</td>\n",
       "      <td>0.203096</td>\n",
       "    </tr>\n",
       "    <tr>\n",
       "      <th>2</th>\n",
       "      <td>alpha-beta T cell</td>\n",
       "      <td>HomoSapiens</td>\n",
       "      <td>TRB</td>\n",
       "      <td>CASSYEPGQVSHYSNQPQHF</td>\n",
       "      <td>TRBV13*01</td>\n",
       "      <td></td>\n",
       "      <td>TRBJ1-5*01</td>\n",
       "      <td>TRA</td>\n",
       "      <td>CAVKASGSRLT</td>\n",
       "      <td>TRAV2*01</td>\n",
       "      <td></td>\n",
       "      <td>0.169054</td>\n",
       "      <td>0.402543</td>\n",
       "    </tr>\n",
       "  </tbody>\n",
       "</table>\n",
       "</div>"
      ],
      "text/plain": [
       "                 TCR                                                    \\\n",
       "            celltype     organism VDJ_chain_type              VDJ_cdr3   \n",
       "0  alpha-beta T cell  HomoSapiens            TRB  CASSYLPGQGDHYSNQPQHF   \n",
       "1  alpha-beta T cell  HomoSapiens            TRB   CASSFEPGQGFYSNQPQHF   \n",
       "2  alpha-beta T cell  HomoSapiens            TRB  CASSYEPGQVSHYSNQPQHF   \n",
       "\n",
       "                                                                   \\\n",
       "  VDJ_v_gene VDJ_d_gene  VDJ_j_gene VJ_chain_type         VJ_cdr3   \n",
       "0  TRBV13*01             TRBJ1-5*01           TRA   CIVRAPGRADMRF   \n",
       "1  TRBV13*01             TRBJ1-5*01           TRA  CAVPSGAGSYQLTF   \n",
       "2  TRBV13*01             TRBJ1-5*01           TRA     CAVKASGSRLT   \n",
       "\n",
       "                          SYFPEITHI, HLA-A*02:01 EAAGIGILTV  \n",
       "     VJ_v_gene  VJ_j_gene                  TITAN      TITAN  \n",
       "0  TRAV26-1*01  TRAJ43*01               0.177025   0.449186  \n",
       "1    TRAV20*01  TRAJ28*01               0.190090   0.203096  \n",
       "2     TRAV2*01                          0.169054   0.402543  "
      ]
     },
     "execution_count": 35,
     "metadata": {},
     "output_type": "execute_result"
    }
   ],
   "source": [
    "predictor = TCRSpecificityPredictorFactory(\"titan\")\n",
    "results = predictor.predict(tcr_repertoire, [epitope_1, epitope_2], \n",
    "                            conda=\"epytope_torch10\",\n",
    "                            pairwise=True)\n",
    "results.head(3)"
   ]
  },
  {
   "cell_type": "markdown",
   "metadata": {},
   "source": [
    "Lets select one and do predictions. "
   ]
  },
  {
   "cell_type": "code",
   "execution_count": null,
   "metadata": {},
   "outputs": [],
   "source": [
    "predictor = TCRSpecificityPredictorFactory(\"imrex\")\n",
    "results = predictor.predict(tcr_repertoire, [epitope_1] * len(tcr_repertoire.receptors), \n",
    "                            conda=\"tcr_predictors\",\n",
    "                            pairwise=False)\n",
    "results.head(3)"
   ]
  },
  {
   "cell_type": "code",
   "execution_count": null,
   "metadata": {},
   "outputs": [],
   "source": [
    "predictor = TCRSpecificityPredictorFactory(\"imrex\")\n",
    "results = predictor.predict(tcr_repertoire, [epitope_1, epitope_2], \n",
    "                            conda=\"tcr_predictors\")\n",
    "results.head(3)"
   ]
  },
  {
   "cell_type": "code",
   "execution_count": null,
   "metadata": {},
   "outputs": [],
   "source": [
    "predictor = TCRSpecificityPredictorFactory(\"ergo-ii\")\n",
    "results = predictor.predict(tcr_repertoire, [epitope_1, epitope_2], \n",
    "                            repository=\"../../external/ERGO-II\")\n",
    "results.head(3)"
   ]
  },
  {
   "cell_type": "code",
   "execution_count": null,
   "metadata": {},
   "outputs": [],
   "source": [
    "raise ValueError"
   ]
  },
  {
   "cell_type": "raw",
   "metadata": {},
   "source": []
  },
  {
   "cell_type": "markdown",
   "metadata": {},
   "source": [
    "External tools like `NetMHC` offer two additional flags when calling `.predict()`, `command=\"/path/to/binary\"` and `options=\"command options\"`. `command=\"\"` specifies the path to an alternative binary that should be used instead of the one that is globally registered. With `options=\"\"` you can specify additional commands that will directly be passed to the command line call without any sanity checks."
   ]
  },
  {
   "cell_type": "code",
   "execution_count": null,
   "metadata": {},
   "outputs": [],
   "source": [
    "predictor = EpitopePredictorFactory(\"Syfpeithi\", version=\"1.0\")\n",
    "results = predictor.predict(peptides2, alleles=alleles, options=\"-s -b\") \n",
    "results.head()"
   ]
  },
  {
   "cell_type": "markdown",
   "metadata": {},
   "source": [
    "<h2> Chapter 2: Data manipulation and consensus prediction</h2>\n",
    "<br/>\n",
    "The predictor all return a data table like object (DataFrame) storing the peptide and allele objects, as well as the predicted results. Because it is a inherited pandas DataFrame we can do all sorts of nifty thinks. \n",
    "\n",
    "For example exporting the results to tsv:"
   ]
  },
  {
   "cell_type": "code",
   "execution_count": null,
   "metadata": {},
   "outputs": [],
   "source": [
    "results.to_csv('./data/test.tsv', sep='\\t')"
   ]
  },
  {
   "cell_type": "markdown",
   "metadata": {},
   "source": [
    "Or we could plot the score distribution of a particular HLA allele."
   ]
  },
  {
   "cell_type": "code",
   "execution_count": null,
   "metadata": {},
   "outputs": [],
   "source": [
    "results.hist()"
   ]
  },
  {
   "cell_type": "markdown",
   "metadata": {},
   "source": [
    "To combine prediction results we can use `merge_results` from `epytope.Core`. In addition to the result object we want to merge, also have to specify the type of these objects (here `EpitopePredictionResult`). The function will return a merged results object of the same type."
   ]
  },
  {
   "cell_type": "code",
   "execution_count": null,
   "metadata": {},
   "outputs": [],
   "source": [
    "results = [EpitopePredictorFactory(m).predict(peptides,alleles=alleles) \n",
    "                    for m in [\"Syfpeithi\",\"BIMAS\",\"SMM\"]]\n",
    "df = results[0].merge_results(results[1:])\n",
    "df"
   ]
  },
  {
   "cell_type": "markdown",
   "metadata": {
    "collapsed": true
   },
   "source": [
    "We also can filter the predicted epitopes based on their prediction values with the function `filter_result` from `epytope.Core`."
   ]
  },
  {
   "cell_type": "code",
   "execution_count": null,
   "metadata": {
    "scrolled": true
   },
   "outputs": [],
   "source": [
    "#you can either use pre-defined operators from `operator`\n",
    "from operator import ge\n",
    "#or define you own comparator function like this\n",
    "comparator = lambda a,b: a > b\n",
    "\n",
    "df.filter_result(['HLA-A*02:01', 'syfpeithi', 'Score'], comparator, 20.0)"
   ]
  },
  {
   "cell_type": "markdown",
   "metadata": {},
   "source": [
    "With that one can combine several prediction tools to form a consensus prediction method.<br/><br/>\n",
    "<h2> Chapter 3: Implementation of a new epitope prediction method </h2>\n",
    "<br/>\n",
    "epytope possesses a potent plugin system allowing the user to extend its capability quite easily. To include a new epitope prediction method one simply has to inherit from `epytope.Core.AEpitopePrediction` and implement its interface. For methods calling an external prediction tool additionally have to inherit from `epytope.Core.AExternal`. SVM based methods also define a specific interface via `epytope.Core.ASVM`. epytope uses SVMlight and its python binding svmlight 0.4.\n",
    "\n",
    "If you want to be very specific and fully integrate your method in all of epytope's capabilities please use one of the three major interfaces `APSSMEpitopePrediction`, `ASVMEpitopePrediction`, or `AExternalEpitopePrediction` from `epytope.EpitopePrediction`."
   ]
  },
  {
   "cell_type": "code",
   "execution_count": null,
   "metadata": {},
   "outputs": [],
   "source": [
    "from epytope.EpitopePrediction import APSSMEpitopePrediction\n",
    "from epytope.Core import EpitopePredictionResult\n",
    "import random\n",
    "import pandas\n",
    "\n",
    "class RandomTCRSpecificityPrediction(APSSMEpitopePrediction):\n",
    "    __tcr_length = (0, 40)\n",
    "    __epitope_length = (0, 40)\n",
    "    __name = \"random\"\n",
    "    __version= \"1.0\"\n",
    "    \n",
    "    #the interface defines three class properties\n",
    "    @property\n",
    "    def name(self):\n",
    "        #returns the name of the predictor\n",
    "        return self.__name\n",
    "    \n",
    "    @property\n",
    "    def tcr_length(self):\n",
    "        #returns the supported tcr lengths (min, max)\n",
    "        return self.__supported_tcr_length\n",
    "    \n",
    "    @property\n",
    "    def epitope_length(self):\n",
    "        #returns the supported epitope lengths (min, max)\n",
    "        return self.__supported_epitope_length\n",
    "    \n",
    "    @property\n",
    "    def version(self):\n",
    "        #returns the version of the predictor\n",
    "        return self.__version\n",
    "    \n",
    "    #additionally the interface defines a function `predict` \n",
    "    #that consumes a list of peptides or a single peptide and optionally a list \n",
    "    #of allele objects\n",
    "    #\n",
    "    #this method implements the complete prediction routine\n",
    "    def predict(self, tcrs, epitopes, pairwise=True, **kwargs):\n",
    "        \n",
    "        #test whether one peptide or a list\n",
    "        if isinstance(peptides, str):\n",
    "            peptides = list(peptides)\n",
    "        \n",
    "        #if no alleles are specified do predictions for all supported alleles\n",
    "        if alleles is None:\n",
    "            alleles = self.supportedAlleles\n",
    "        else:\n",
    "            #filter for supported alleles\n",
    "            alleles = filter(lambda a: a.name in self.supportedAlleles, alleles) \n",
    "        \n",
    "        scores = {}\n",
    "        #now predict binding/non-binding for each peptide at random\n",
    "        for a in alleles:\n",
    "            scores[a] = {}\n",
    "            for p in peptides:\n",
    "                if random.random() >= 0.5:\n",
    "                    scores[a][p] = 1.0\n",
    "                else:\n",
    "                    scores[a][p] = 0.0\n",
    "        \n",
    "        #create EpitopePredictionResult object from nested dictionary. This is a multi-column DataFrame \n",
    "        #with allele, method and scoretype as columns and peptides as indices\n",
    "        result = {allele: {self.__scoretype: list(scores.values())[i]} for i, allele in enumerate(alleles)}\n",
    "        \n",
    "        # converts the nested dictionary to a EpitopePredictionResult\n",
    "        df_result = EpitopePredictionResult.from_dict(result, peptides, self.__name)\n",
    "        \n",
    "        return df_result\n"
   ]
  },
  {
   "cell_type": "markdown",
   "metadata": {},
   "source": [
    "Now lets use our new predictor."
   ]
  },
  {
   "cell_type": "code",
   "execution_count": null,
   "metadata": {},
   "outputs": [],
   "source": [
    "TCRSpecificityPredictorFactory(\"random\").predict(peptides)"
   ]
  },
  {
   "cell_type": "markdown",
   "metadata": {},
   "source": [
    "The predictor is now fully integrated and can be used in any context defined by epytope."
   ]
  }
 ],
 "metadata": {
  "kernelspec": {
   "display_name": "Python [conda env:epytope]",
   "language": "python",
   "name": "conda-env-epytope-py"
  },
  "language_info": {
   "codemirror_mode": {
    "name": "ipython",
    "version": 3
   },
   "file_extension": ".py",
   "mimetype": "text/x-python",
   "name": "python",
   "nbconvert_exporter": "python",
   "pygments_lexer": "ipython3",
   "version": "3.7.16"
  }
 },
 "nbformat": 4,
 "nbformat_minor": 1
}
