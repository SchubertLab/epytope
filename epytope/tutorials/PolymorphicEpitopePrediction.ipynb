{
 "cells": [
  {
   "cell_type": "markdown",
   "metadata": {},
   "source": [
    "<h1> Polymorphic Epitope Prediction </h1>\n",
    "\n",
    "This tutorial illustrates how to use epytope to integrate genomic information of a patient for epitope prediction.\n",
    "\n",
    "This tutorial entails:\n",
    "- Variant construction\n",
    "- Polymorphic Transcript/Protein/Peptide construction\n",
    "- Polymorphic epitope prediction\n"
   ]
  },
  {
   "cell_type": "code",
   "execution_count": 1,
   "metadata": {},
   "outputs": [
    {
     "name": "stderr",
     "output_type": "stream",
     "text": [
      "Using TensorFlow backend.\n"
     ]
    }
   ],
   "source": [
    "%matplotlib inline\n",
    "%reload_ext autoreload\n",
    "%autoreload 2\n",
    "\n",
    "from epytope.Core import Allele, Peptide, Protein,generate_peptides_from_proteins\n",
    "from epytope.IO import read_lines, read_fasta\n",
    "from epytope.EpitopePrediction import EpitopePredictorFactory\n",
    "from epytope.Core import generate_transcripts_from_variants, generate_proteins_from_transcripts \n",
    "from epytope.Core import generate_peptides_from_variants\n",
    "from epytope.IO import read_annovar_exonic\n",
    "from epytope.IO import MartsAdapter\n",
    "from epytope.IO import EIdentifierTypes"
   ]
  },
  {
   "cell_type": "markdown",
   "metadata": {},
   "source": [
    "<h2> Chapter 1: Generating polymorphic epitopes </h2>\n",
    "<br/>\n",
    "We first have to construct variants to work with. We can either do this manually or by using one of the IO functions of epytope. Currently, epytope supports annotated exonic ANNOVAR files. Once the variant objects are created, we can use them to construct polymorphic transcripts with `epytope.Core.generate_transcript_from_variants`. For that we also have to specify from which database the additional transcript information (like sequence etc.) should be extracted and what kind of identification system (e.g. RefSeq, ENSEMBL) was used to annotate the variants. Here we use the `epytope.IO.MatrsAdapter` to connect to the remote BioMart DB and use `RefSeq` as indetification system via specifying this with `epytope.IO.EIdentifierTypes.REFSEQ`. We can also specify which of the community BioMart DB should be used instead of the central BioMart server with the named argument `biomart=`.<br/>\n",
    "\n",
    "`epytope.Core.generate_transcript_from_variants` will generate all combinatorial possibilities of heterozygous and homozygous variants and incorporate these into the reference transcript sequence. This also means that the function becomes quickly unpractical once a large amount of heterozygous variants should be processed. $n$ heterozygous variants will generate $2^n$ transcript objects. This procedure is done, since no phasing information of the heterozygous variants are routinely available.\n"
   ]
  },
  {
   "cell_type": "code",
   "execution_count": 2,
   "metadata": {},
   "outputs": [],
   "source": [
    "vars = read_annovar_exonic(\"./data/test_annovar.out\")\n",
    "mart =  MartsAdapter(biomart=\"http://grch37.ensembl.org/biomart/martservice?query=\")\n",
    "trans = generate_transcripts_from_variants(vars, mart, EIdentifierTypes.REFSEQ)"
   ]
  },
  {
   "cell_type": "markdown",
   "metadata": {},
   "source": [
    "Once we generated the polymorphic transcripts, we can use `epytope.Core.generate_proteins_from_transcripts` to construct protein sequences. The so generated protein sequences will contain the non-synonymous variants that effected its protein sequence."
   ]
  },
  {
   "cell_type": "code",
   "execution_count": 3,
   "metadata": {},
   "outputs": [],
   "source": [
    "proteins = generate_proteins_from_transcripts(trans)"
   ]
  },
  {
   "cell_type": "markdown",
   "metadata": {},
   "source": [
    "By using `epytope.Core.generate_peptides_from_proteins`, we can now generate polymorphic peptide objects from the previously generated polymorphic proteins. In addition to the proteins from which peptides are be generate, we have to specify a desired peptide length (e.g. 9-mers)."
   ]
  },
  {
   "cell_type": "code",
   "execution_count": 4,
   "metadata": {},
   "outputs": [
    {
     "name": "stderr",
     "output_type": "stream",
     "text": [
      "/Users/jonas/Desktop/epytope/epytope/Core/Generator.py:57: UserWarning: For NM_001190266 bp does not match ref of assigned variant Variant(g.234183368A>G). Pos 645, var ref A, seq ref C \n",
      "  seq[pos]))\n",
      "WARNING:root:No Information on transcript NM_001293557\n",
      "/Users/jonas/Desktop/epytope/epytope/Core/Generator.py:352: UserWarning: Transcript with ID NM_001293557 not found in DB\n",
      "  warnings.warn(\"Transcript with ID %s not found in DB\"%tId)\n",
      "/Users/jonas/opt/anaconda3/envs/epytope/lib/python3.6/site-packages/Bio/Seq.py:2983: BiopythonWarning: Partial codon, len(sequence) not a multiple of three. Explicitly trim the sequence or add trailing N before translation. This may become an error in future.\n",
      "  BiopythonWarning,\n"
     ]
    }
   ],
   "source": [
    "peptides1 = list(generate_peptides_from_proteins(proteins, 9))"
   ]
  },
  {
   "cell_type": "markdown",
   "metadata": {},
   "source": [
    "If we are only interested in polymorphic peptides, or the high number of heterozygous variants prohibits the construction of all polymorphic transcripts/proteins, we can use `epytope.Core.generate_peptides_from_variants`. This function restricts the combinatorial exploration to a specific window size, thereby reducing the number of possible combination to $2^m$ with $m << n$. The window size represents the length of the desired peptides (e.g. 9-mers)."
   ]
  },
  {
   "cell_type": "code",
   "execution_count": 5,
   "metadata": {
    "scrolled": true
   },
   "outputs": [
    {
     "name": "stderr",
     "output_type": "stream",
     "text": [
      "WARNING:root:No Information on transcript NM_001293557\n",
      "/Users/jonas/Desktop/epytope/epytope/Core/Generator.py:246: UserWarning: Transcript with ID NM_001293557 not found in DB\n",
      "  warnings.warn(\"Transcript with ID %s not found in DB\"%tId)\n"
     ]
    }
   ],
   "source": [
    "peptides2 = generate_peptides_from_variants(vars, 9, mart, EIdentifierTypes.REFSEQ)"
   ]
  },
  {
   "cell_type": "markdown",
   "metadata": {
    "scrolled": true
   },
   "source": [
    "**Note**: All function starting with `generate` are true generator functions. That means, they stall the calculations until the actual objects are needed, but can only be traversed once."
   ]
  },
  {
   "cell_type": "markdown",
   "metadata": {},
   "source": [
    "<h2> Chapter 2: Epitope prediction </h2>\n",
    "<br/>\n",
    "Once we have generated the peptide objects, we can for example predict their binding affinity. For that, we first have to initialize HLA allele objects, and an epitope prediction method. For more information see the <a href=\"https://github.com/KohlbacherLab/epytope/blob/master/epytope/tutorials/EpitopePrediction.ipynb\">tutorial on epitope prediction</a>.\n"
   ]
  },
  {
   "cell_type": "code",
   "execution_count": 6,
   "metadata": {},
   "outputs": [
    {
     "data": {
      "text/html": [
       "<div>\n",
       "<style scoped>\n",
       "    .dataframe tbody tr th:only-of-type {\n",
       "        vertical-align: middle;\n",
       "    }\n",
       "\n",
       "    .dataframe tbody tr th {\n",
       "        vertical-align: top;\n",
       "    }\n",
       "\n",
       "    .dataframe thead tr th {\n",
       "        text-align: left;\n",
       "    }\n",
       "\n",
       "    .dataframe thead tr:last-of-type th {\n",
       "        text-align: right;\n",
       "    }\n",
       "</style>\n",
       "<table border=\"1\" class=\"dataframe\">\n",
       "  <thead>\n",
       "    <tr>\n",
       "      <th>Allele</th>\n",
       "      <th>HLA-B*15:01</th>\n",
       "      <th>HLA-A*02:01</th>\n",
       "    </tr>\n",
       "    <tr>\n",
       "      <th>Method</th>\n",
       "      <th>smm</th>\n",
       "      <th>smm</th>\n",
       "    </tr>\n",
       "    <tr>\n",
       "      <th>ScoreType</th>\n",
       "      <th>Score</th>\n",
       "      <th>Score</th>\n",
       "    </tr>\n",
       "    <tr>\n",
       "      <th>Peptides</th>\n",
       "      <th></th>\n",
       "      <th></th>\n",
       "    </tr>\n",
       "  </thead>\n",
       "  <tbody>\n",
       "    <tr>\n",
       "      <th>(M, N, Q, V, T, I, Q, W, D)</th>\n",
       "      <td>269153.480393</td>\n",
       "      <td>905962.037856</td>\n",
       "    </tr>\n",
       "    <tr>\n",
       "      <th>(N, Q, V, T, I, Q, W, D, A)</th>\n",
       "      <td>39719.154947</td>\n",
       "      <td>3540.870144</td>\n",
       "    </tr>\n",
       "    <tr>\n",
       "      <th>(Q, V, T, I, Q, W, D, A, V)</th>\n",
       "      <td>70631.755426</td>\n",
       "      <td>6793.756861</td>\n",
       "    </tr>\n",
       "    <tr>\n",
       "      <th>(V, T, I, Q, W, D, A, V, I)</th>\n",
       "      <td>1409.288798</td>\n",
       "      <td>1766.485187</td>\n",
       "    </tr>\n",
       "    <tr>\n",
       "      <th>(T, I, Q, W, D, A, V, I, A)</th>\n",
       "      <td>23713.737057</td>\n",
       "      <td>4276.711949</td>\n",
       "    </tr>\n",
       "  </tbody>\n",
       "</table>\n",
       "</div>"
      ],
      "text/plain": [
       "Allele                         HLA-B*15:01    HLA-A*02:01\n",
       "Method                                 smm            smm\n",
       "ScoreType                            Score          Score\n",
       "Peptides                                                 \n",
       "(M, N, Q, V, T, I, Q, W, D)  269153.480393  905962.037856\n",
       "(N, Q, V, T, I, Q, W, D, A)   39719.154947    3540.870144\n",
       "(Q, V, T, I, Q, W, D, A, V)   70631.755426    6793.756861\n",
       "(V, T, I, Q, W, D, A, V, I)    1409.288798    1766.485187\n",
       "(T, I, Q, W, D, A, V, I, A)   23713.737057    4276.711949"
      ]
     },
     "execution_count": 6,
     "metadata": {},
     "output_type": "execute_result"
    }
   ],
   "source": [
    "alleles = read_lines(\"./data/alleles.txt\", in_type=Allele)\n",
    "smm = EpitopePredictorFactory(\"smm\")\n",
    "pred_df = smm.predict(filter(lambda x: \"*\" not in str(x), peptides1), alleles=alleles)\n",
    "pred_df.head()"
   ]
  },
  {
   "cell_type": "markdown",
   "metadata": {},
   "source": [
    "<h2> Chapter 3: Post-processing </h2>\n",
    "<br/>\n",
    "These polymorphic peptides have functionalities that allow the user to identify the variants that influenced the peptide sequences and locate their positions within the peptide sequence. With `Peptide.get_variants_by_protein()` we obtain a list of variants that influenced the peptide sequence originating from a specific protein. `Peptide.get_variants_by_protein_position()` returns a dictionary of where the key is the relative position of a variant within the peptide sequence that originated from a specific protein and protein position."
   ]
  },
  {
   "cell_type": "code",
   "execution_count": 7,
   "metadata": {
    "scrolled": false
   },
   "outputs": [
    {
     "name": "stdout",
     "output_type": "stream",
     "text": [
      "\n",
      "NM_144701:epytope_1 [Variant(g.67705958G>A)]\n",
      "{8: [Variant(g.67705958G>A)]}  Protein position:  372  Peptide:  IGIFNRSFQ\n",
      "\n",
      "NM_144701:epytope_1 [Variant(g.67705958G>A)]\n",
      "{7: [Variant(g.67705958G>A)]}  Protein position:  373  Peptide:  GIFNRSFQT\n"
     ]
    }
   ],
   "source": [
    "poly_peps = filter(lambda x: any(x.get_variants_by_protein(prot.transcript_id) for prot in x.get_all_proteins()) , peptides1)\n",
    "c=0\n",
    "for p in poly_peps:\n",
    "    c+=1\n",
    "    if c>=3:\n",
    "        break\n",
    "    for prot,poss in p.proteinPos.items():\n",
    "        print()\n",
    "        print(prot, p.get_variants_by_protein(prot))\n",
    "        for pos in poss:\n",
    "            vars = p.get_variants_by_protein_position(prot, pos)\n",
    "            if vars:\n",
    "                print(vars,\" Protein position: \",pos,\" Peptide: \",p)"
   ]
  }
 ],
 "metadata": {
  "kernelspec": {
   "display_name": "Python 3",
   "language": "python",
   "name": "python3"
  },
  "language_info": {
   "codemirror_mode": {
    "name": "ipython",
    "version": 3
   },
   "file_extension": ".py",
   "mimetype": "text/x-python",
   "name": "python",
   "nbconvert_exporter": "python",
   "pygments_lexer": "ipython3",
   "version": "3.6.13"
  }
 },
 "nbformat": 4,
 "nbformat_minor": 1
}
