{
 "cells": [
  {
   "cell_type": "markdown",
   "id": "73f62dcf",
   "metadata": {},
   "source": [
    "# TODO: later shift to unit tests"
   ]
  },
  {
   "cell_type": "code",
   "execution_count": 1,
   "id": "5ba677a8",
   "metadata": {},
   "outputs": [],
   "source": [
    "import sys\n",
    "sys.path.append('../..')"
   ]
  },
  {
   "cell_type": "code",
   "execution_count": 2,
   "id": "96f7c866",
   "metadata": {},
   "outputs": [],
   "source": [
    "%matplotlib inline\n",
    "%reload_ext autoreload\n",
    "%autoreload 2\n",
    "\n",
    "from epytope.Core import Peptide, Allele, TCREpitope, ImmuneReceptorChain, ImmuneReceptor\n",
    "\n",
    "from epytope.IO import IRDatasetAdapterFactory\n",
    "from epytope.TCRSpecificityPrediction import TCRSpecificityPredictorFactory"
   ]
  },
  {
   "cell_type": "code",
   "execution_count": null,
   "id": "8ced3546",
   "metadata": {},
   "outputs": [],
   "source": []
  },
  {
   "cell_type": "code",
   "execution_count": 3,
   "id": "904b154c",
   "metadata": {},
   "outputs": [],
   "source": [
    "peptide = Peptide(\"SYFPEITHI\")\n",
    "allele = Allele(\"HLA-A*02:01\")\n",
    "epitope_1 = TCREpitope(peptide=peptide, allele=allele)\n",
    "epitope_2 = TCREpitope(peptide=\"EAAGIGILTV\", allele=allele)"
   ]
  },
  {
   "cell_type": "code",
   "execution_count": null,
   "id": "a953537c",
   "metadata": {},
   "outputs": [],
   "source": []
  },
  {
   "cell_type": "code",
   "execution_count": 4,
   "id": "3aa31c1a",
   "metadata": {},
   "outputs": [],
   "source": [
    "path_data = '../../scrubs/vdjdb.tsv'\n",
    "tcr_repertoire = IRDatasetAdapterFactory(\"vdjdb\")\n",
    "tcr_repertoire.from_path(path_data)\n",
    "tcr_repertoire.receptors = tcr_repertoire.receptors[:20]"
   ]
  },
  {
   "cell_type": "code",
   "execution_count": null,
   "id": "a1c15637",
   "metadata": {},
   "outputs": [],
   "source": []
  },
  {
   "cell_type": "code",
   "execution_count": null,
   "id": "f7887d81",
   "metadata": {},
   "outputs": [],
   "source": []
  },
  {
   "cell_type": "code",
   "execution_count": 5,
   "id": "a810c6dc",
   "metadata": {},
   "outputs": [
    {
     "name": "stdout",
     "output_type": "stream",
     "text": [
      "imrex \n",
      "titan 1.0.0\n",
      "ergo-ii \n",
      "pmtnet \n",
      "epitcr \n",
      "atm-tcr \n"
     ]
    }
   ],
   "source": [
    "for name, version in TCRSpecificityPredictorFactory.available_methods().items():\n",
    "    print(name, \",\".join(version))"
   ]
  },
  {
   "cell_type": "code",
   "execution_count": 10,
   "id": "7b1e051b",
   "metadata": {},
   "outputs": [],
   "source": [
    "reqs = {\n",
    "    \"ergo-ii\": {\"repository\": \"../../external/ERGO-II\"},\n",
    "    \"pmtnet\": {\"repository\": \"../../external/pMTnet\", \"conda\": \"epytope_tf20\"},\n",
    "    \"epitcr\": {\"repository\": \"../../external/epiTCR\", \"conda\": \"epytope_python3.8\"},\n",
    "    \"atm-tcr\": {\"repository\": \"../../external/ATM-TCR\", \"conda\": \"epytope_torch10\", \"cuda\": True},\n",
    "    \"titan\": {\"conda\": \"epytope_torch10\"},\n",
    "    \"imrex\": {\"conda\": \"tcr_predictors\"},\n",
    "}\n",
    "\n",
    "choices = {\n",
    "    \"ergo-ii\": {\"dataset\": [\"vdjdb\", \"mcpas\"]}\n",
    "}"
   ]
  },
  {
   "cell_type": "markdown",
   "id": "b77a13ae",
   "metadata": {},
   "source": [
    "## Test Pairwise"
   ]
  },
  {
   "cell_type": "code",
   "execution_count": 40,
   "id": "3554eff3",
   "metadata": {},
   "outputs": [
    {
     "name": "stdout",
     "output_type": "stream",
     "text": [
      "ergo-ii\n",
      "pmtnet\n",
      "epitcr\n",
      "atm-tcr\n",
      "titan\n",
      "imrex\n",
      "### All pairwise Tests succeded\n"
     ]
    }
   ],
   "source": [
    "epitopes_pairwise = [epitope_1, epitope_2]\n",
    "\n",
    "for name, req_model in reqs.items():\n",
    "    print(name)\n",
    "    \n",
    "    predictor = TCRSpecificityPredictorFactory(name)\n",
    "    results = predictor.predict(tcr_repertoire, epitopes_pairwise, pairwise=True, **req_model)\n",
    "    \n",
    "    assert len(results)== len(tcr_repertoire.receptors), \"Results have wrong length\"\n",
    "    for epitope in epitopes_pairwise:\n",
    "        assert epitope in results, \"Epitope not in result\"\n",
    "        assert name in [el.lower() for el in results[epitope].columns.tolist()], \"Method not in results\"\n",
    "        assert results[epitope].iloc[:, 0].isna().sum() < len(results), \"Method always yield NaN\"\n",
    "        \n",
    "print(\"### All pairwise Tests succeded\")"
   ]
  },
  {
   "cell_type": "markdown",
   "id": "46ce5725",
   "metadata": {},
   "source": [
    "## Test Not-Pairwise"
   ]
  },
  {
   "cell_type": "code",
   "execution_count": 39,
   "id": "ffd92e6f",
   "metadata": {},
   "outputs": [
    {
     "name": "stdout",
     "output_type": "stream",
     "text": [
      "ergo-ii\n",
      "pmtnet\n",
      "epitcr\n",
      "atm-tcr\n",
      "titan\n",
      "imrex\n",
      "### All non-pairwise Tests succeded\n"
     ]
    }
   ],
   "source": [
    "epitopes_list = [epitope_1, epitope_2] * 10\n",
    "\n",
    "for name, req_model in reqs.items(): \n",
    "    print(name)\n",
    "    predictor = TCRSpecificityPredictorFactory(name)\n",
    "    results = predictor.predict(tcr_repertoire, epitopes_list, pairwise=False, **req_model)\n",
    "    \n",
    "    assert len(results)== len(tcr_repertoire.receptors), \"Results have wrong length\"\n",
    "    assert name in [el.lower() for el in results[\"Method\"].columns]\n",
    "    assert results[\"Method\"].iloc[:, 0].isna().sum() < len(results), \"Method always yield NaN\"\n",
    "    for i, epitope in enumerate(epitopes_list):\n",
    "        assert results.at[i, (\"Epitope\", \"Peptide\")] == epitope.peptide, f\"Wrong epitope at position {i}\"\n",
    "        assert results.at[i, (\"Epitope\", \"MHC\")] == epitope.allele, f\"Wrong MHC at position {i}\"\n",
    "    \n",
    "print(\"### All non-pairwise Tests succeded\")"
   ]
  }
 ],
 "metadata": {
  "kernelspec": {
   "display_name": "Python [conda env:epytope]",
   "language": "python",
   "name": "conda-env-epytope-py"
  },
  "language_info": {
   "codemirror_mode": {
    "name": "ipython",
    "version": 3
   },
   "file_extension": ".py",
   "mimetype": "text/x-python",
   "name": "python",
   "nbconvert_exporter": "python",
   "pygments_lexer": "ipython3",
   "version": "3.7.16"
  }
 },
 "nbformat": 4,
 "nbformat_minor": 5
}
